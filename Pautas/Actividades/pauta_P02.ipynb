{
 "cells": [
  {
   "cell_type": "code",
   "execution_count": 1,
   "metadata": {},
   "outputs": [],
   "source": [
    "from collections import defaultdict\n",
    "from itertools import product"
   ]
  },
  {
   "cell_type": "code",
   "execution_count": 2,
   "metadata": {},
   "outputs": [],
   "source": [
    "def solo_bl(lista: list) -> list: # funcion para obtener una lista de solo los nodos bluetooth\n",
    "    return [n for n,b in lista if b] # si es bluetooth (b=1) lo agego a la lista de nodos bluetooth\n",
    "\n",
    "\n",
    "def alcanzable(nodo_i:str, nodo_f:str, arcos:list, nodos_b:list) -> bool:\n",
    "    hijos = defaultdict(list) # creo una matriz de adyacencia\n",
    "    for p, h in arcos:\n",
    "        hijos[p].append(h)\n",
    "    revisar = set(hijos[nodo_i]) \n",
    "    if nodo_f in revisar:#reviso si mi objetivo esta ahi\n",
    "        return True\n",
    "    \n",
    "    vistos = set(nodos_b)\n",
    "    revisar = revisar - vistos\n",
    "    while len(revisar) > 0: # para cada nodo a los que he llegado y no he visto\n",
    "        vistos = vistos.union(revisar) # los agrego al set de nodos que ya he visto\n",
    "        new_hijos = set() # busco los hijos nuevos \n",
    "        for n in revisar:\n",
    "            new_hijos = new_hijos.union(set(hijos[n])) # agrego los nodos a 1 de distancia desde los que tenia\n",
    "        if nodo_f in new_hijos: # reviso si mi objetivo esta en los nuevos nodos\n",
    "            return True\n",
    "        \n",
    "        revisar = new_hijos-vistos # elimino los nodos que tienen dispositivos bluetooth\n",
    "        \n",
    "    return False # Si terminé de recorrer y no llegué al objetivo retorno False\n",
    "\n",
    "\n",
    "def revisar_aristas(nodos_b:list, arcos:list) -> list:\n",
    "    aristas = []\n",
    "    # obtengo cada par de aristas que se pueden hacer con los elementos de la lista nodos_b\n",
    "    for inicio, fin in product(nodos_b, repeat=2):\n",
    "        if alcanzable(inicio, fin, arcos, nodos_b): # si es alcanzable lo agrego a la lista de aristas\n",
    "            aristas.append((inicio, fin))\n",
    "    return aristas\n",
    "\n",
    "\n",
    "def simplificar_red(red:list) -> list:\n",
    "    lista_nodos, lista_arcos = *red,\n",
    "    nodos_b = solo_bl(lista_nodos)\n",
    "    return [[(nodo, \"1\") for nodo in nodos_b], revisar_aristas(nodos_b, lista_arcos)] # solo temas de formato"
   ]
  },
  {
   "cell_type": "markdown",
   "metadata": {},
   "source": [
    "#### Ejecución"
   ]
  },
  {
   "cell_type": "code",
   "execution_count": 3,
   "metadata": {},
   "outputs": [
    {
     "name": "stdout",
     "output_type": "stream",
     "text": [
      "[[('A', '1'), ('C', '1'), ('E', '1'), ('G', '1'), ('I', '1'), ('L', '1'), ('M', '1'), ('O', '1'), ('P', '1'), ('R', '1'), ('T', '1')], [('A', 'G'), ('A', 'P'), ('C', 'A'), ('C', 'I'), ('C', 'M'), ('E', 'C'), ('E', 'O'), ('G', 'A'), ('G', 'I'), ('G', 'M'), ('I', 'C'), ('I', 'O'), ('L', 'G'), ('L', 'P'), ('M', 'L'), ('M', 'R'), ('O', 'I'), ('O', 'M'), ('O', 'T'), ('P', 'L'), ('P', 'R'), ('R', 'I'), ('R', 'M'), ('R', 'T')]]\n"
     ]
    }
   ],
   "source": [
    "if __name__ == \"__main__\":\n",
    "    lista_nodos = [\n",
    "        ('A', 1), ('B', 0), ('C', 1), ('D', 0), ('E', 1),\n",
    "        ('F', 0), ('G', 1), ('H', 0), ('I', 1), ('J', 0),\n",
    "        ('K', 0), ('L', 1), ('M', 1), ('N', 0), ('O', 1),\n",
    "        ('P', 1), ('Q', 0), ('R', 1), ('S', 0), ('T', 1),\n",
    "    ]\n",
    "\n",
    "    lista_arcos = [\n",
    "        ('A', 'F'), ('B', 'A'), ('C', 'B'), ('C','H'), ('D', 'C'), ('E', 'D'), ('E', 'J'),\n",
    "        ('F', 'G'), ('F', 'K'), ('G', 'B'), ('G', 'H'), ('H', 'I'), ('H', 'M'), ('I', 'D'), ('I', 'J'), ('J', 'O'),\n",
    "        ('K', 'P'), ('L', 'K'), ('L', 'G'), ('M', 'L'), ('M', 'R'), ('N', 'I'), ('N', 'M'), ('O', 'N'), ('O', 'T'),\n",
    "        ('P', 'Q'), ('Q', 'L'), ('Q', 'R'), ('R', 'S'), ('S', 'N'), ('S', 'T'),\n",
    "    ]\n",
    "\n",
    "    red = [lista_nodos, lista_arcos]\n",
    "    print(simplificar_red(red))"
   ]
  }
 ],
 "metadata": {
  "kernelspec": {
   "display_name": "Python 3",
   "language": "python",
   "name": "python3"
  },
  "language_info": {
   "codemirror_mode": {
    "name": "ipython",
    "version": 3
   },
   "file_extension": ".py",
   "mimetype": "text/x-python",
   "name": "python",
   "nbconvert_exporter": "python",
   "pygments_lexer": "ipython3",
   "version": "3.8.3"
  }
 },
 "nbformat": 4,
 "nbformat_minor": 4
}
