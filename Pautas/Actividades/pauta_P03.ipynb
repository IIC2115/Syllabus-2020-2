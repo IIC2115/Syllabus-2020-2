{
 "cells": [
  {
   "cell_type": "code",
   "execution_count": 86,
   "metadata": {},
   "outputs": [],
   "source": [
    "import sqlite3\n",
    "from collections import defaultdict\n",
    "\n",
    "connection = sqlite3.connect('nba.sqlite')\n",
    "cursor = connection.cursor()   "
   ]
  },
  {
   "cell_type": "code",
   "execution_count": 50,
   "metadata": {},
   "outputs": [
    {
     "name": "stdout",
     "output_type": "stream",
     "text": [
      "[('table', 'Salaries', 'Salaries', 2, 'CREATE TABLE \"Salaries\" (\\n\\t\"Player\"\\tTEXT,\\n\\t\"Team\"\\tTEXT,\\n\\t\"Salary\"\\tREAL\\n)'), ('table', 'Stats', 'Stats', 3, 'CREATE TABLE \"Stats\" (\\n\\t\"Year\"\\tREAL,\\n\\t\"Player\"\\tTEXT,\\n\\t\"Position\"\\tTEXT,\\n\\t\"Age\"\\tREAL,\\n\\t\"Team\"\\tTEXT,\\n\\t\"Games\"\\tREAL,\\n\\t\"GamesStarted\"\\tINTEGER,\\n\\t\"MinutesPlayed\"\\tREAL,\\n\\t\"3Points\"\\tINTEGER,\\n\\t\"3PAttempts\"\\tINTEGER,\\n\\t\"2Points\"\\tREAL,\\n\\t\"2PAttempts\"\\tREAL,\\n\\t\"FreeThrows\"\\tREAL,\\n\\t\"FTAttempts\"\\tREAL,\\n\\t\"Fouls\"\\tREAL,\\n\\t\"Points\"\\tREAL\\n)')]\n"
     ]
    }
   ],
   "source": [
    "cursor.execute(\"SELECT * FROM sqlite_master WHERE type='table';\")\n",
    "print(cursor.fetchall())"
   ]
  },
  {
   "cell_type": "code",
   "execution_count": 4,
   "metadata": {},
   "outputs": [],
   "source": [
    "def query(q):\n",
    "    cursor.execute(q)\n",
    "    return cursor.fetchall()"
   ]
  },
  {
   "cell_type": "code",
   "execution_count": 45,
   "metadata": {},
   "outputs": [
    {
     "data": {
      "text/plain": [
       "[('TOR', 576.0),\n",
       " ('NYK', 588.0),\n",
       " ('POR', 661.0),\n",
       " ('BOS', 686.0),\n",
       " ('MEM', 698.0)]"
      ]
     },
     "execution_count": 45,
     "metadata": {},
     "output_type": "execute_result"
    }
   ],
   "source": [
    "# Para cada equipo sumo los fouls de cada uno de sus participantes\n",
    "# si estos perteneces a los 5 mas viejos del equipo\n",
    "# finalmente orderno los equipos por la cantidad de fouls \n",
    "q = f\"\"\"\n",
    "SELECT *\n",
    "FROM(\n",
    "    SELECT Team, SUM(Fouls) AS ss\n",
    "    FROM Stats AS S\n",
    "    WHERE Player IN (\n",
    "        SELECT Player\n",
    "        FROM Stats\n",
    "        WHERE Team = S.Team\n",
    "        ORDER BY Age DESC\n",
    "        LIMIT 5\n",
    "    )\n",
    "    GROUP BY Team\n",
    "    ORDER BY ss DESC\n",
    "    LIMIT 5\n",
    ")\n",
    "ORDER BY ss ASC\n",
    "\"\"\"\n",
    "\n",
    "query(q)"
   ]
  },
  {
   "cell_type": "code",
   "execution_count": 97,
   "metadata": {},
   "outputs": [
    {
     "data": {
      "text/plain": [
       "[('TOR', 576.0),\n",
       " ('NYK', 588.0),\n",
       " ('POR', 661.0),\n",
       " ('BOS', 686.0),\n",
       " ('MEM', 698.0)]"
      ]
     },
     "execution_count": 97,
     "metadata": {},
     "output_type": "execute_result"
    }
   ],
   "source": [
    "q = f\"\"\"\n",
    "SELECT * FROM Stats\n",
    "\"\"\"\n",
    "\n",
    "teams = defaultdict(list)\n",
    "for item in query(q):\n",
    "    (Year, Player, Position, Age, Team, Games, GamesStarted, MinutesPlayed, TPoints,\n",
    "     TPAttempts, DPoints, DPAttempts, FreeThrows, FTAttempts, Fouls, Points) = item\n",
    "    # obtengo \n",
    "    teams[Team].append((Player, float(Age), float(Fouls)))\n",
    "    \n",
    "tot = []\n",
    "for t in teams:\n",
    "    tot.append((t, sum([x[2] for x in sorted(teams[t], key=lambda x: x[1], reverse=True)[:5]])))\n",
    "\n",
    "tot = sorted(tot, key=lambda x: x[1])[-5:]\n",
    "tot    "
   ]
  },
  {
   "cell_type": "code",
   "execution_count": 116,
   "metadata": {},
   "outputs": [
    {
     "data": {
      "text/plain": [
       "[('Jonas Valanciunas', 16121.663190823774, 15460675.0),\n",
       " ('Taj Gibson', 8274.231678486998, 14000000.0),\n",
       " ('Michael Kidd-Gilchrist', 17496.63526244953, 13000000.0),\n",
       " ('Shaun Livingston', 19774.570694087404, 7692308.0),\n",
       " ('Lance Stephenson', 17131.147540983606, 4180000.0),\n",
       " ('Tarik Black', 8590.078328981723, 3290000.0),\n",
       " ('Quincy Acy', 3850.310810810811, 1709538.0),\n",
       " ('Willie Reed', 4217.192513368984, 1577230.0),\n",
       " (\"DeAndre' Bembry\", 15516.831683168317, 1567200.0),\n",
       " (\"Johnny O'Bryant\", 20056.644736842107, 1524305.0)]"
      ]
     },
     "execution_count": 116,
     "metadata": {},
     "output_type": "execute_result"
    }
   ],
   "source": [
    "# obtengo todos los participantes que han hecho mas de 1 3-puntos\n",
    "players = f\"\"\"\n",
    "SELECT Player\n",
    "FROM Stats\n",
    "GROUP BY Player\n",
    "HAVING SUM(\"3Points\") > 0\n",
    "\"\"\"\n",
    "# Para cada jugador,divido su salario por la suma de sus puntos,\n",
    "# si el jugador pertenece a los jugadores encontrados anteriormente\n",
    "# y los ordeno en cuanto a su salario\n",
    "q = f\"\"\"\n",
    "SELECT Sa.Player, Sa.Salary/SUM(St.Points) AS Ptot, Sa.Salary AS Tot\n",
    "FROM Salaries AS Sa, Stats AS St\n",
    "WHERE Sa.Player IN ({players}) AND St.Player=Sa.Player\n",
    "GROUP BY Sa.Player\n",
    "ORDER BY Tot DESC\n",
    "LIMIT 10\n",
    "\"\"\"\n",
    "\n",
    "query(q)"
   ]
  },
  {
   "cell_type": "code",
   "execution_count": 123,
   "metadata": {},
   "outputs": [
    {
     "data": {
      "text/plain": [
       "[('Jonas Valanciunas', 16121.663190823774, 15460675.0),\n",
       " ('Taj Gibson', 8274.231678486998, 14000000.0),\n",
       " ('Michael Kidd-Gilchrist', 17496.63526244953, 13000000.0),\n",
       " ('Shaun Livingston', 19774.570694087404, 7692308.0),\n",
       " ('Lance Stephenson', 17131.147540983606, 4180000.0),\n",
       " ('Tarik Black', 8590.078328981723, 3290000.0),\n",
       " ('Quincy Acy', 3850.310810810811, 1709538.0),\n",
       " ('Willie Reed', 4217.192513368984, 1577230.0),\n",
       " (\"DeAndre' Bembry\", 15516.831683168317, 1567200.0),\n",
       " (\"Johnny O'Bryant\", 20056.644736842107, 1524305.0)]"
      ]
     },
     "execution_count": 123,
     "metadata": {},
     "output_type": "execute_result"
    }
   ],
   "source": [
    "q = f\"\"\"\n",
    "SELECT * \n",
    "FROM Stats, Salaries\n",
    "WHERE Stats.Player = Salaries.Player\n",
    "\"\"\"\n",
    "\n",
    "players = defaultdict(list)\n",
    "for item in query(q):\n",
    "    (Year, Player, Position, Age, Team, Games, GamesStarted, MinutesPlayed, TPoints,\n",
    "     TPAttempts, DPoints, DPAttempts, FreeThrows, FTAttempts, Fouls, Points, _, _, Salary) = item\n",
    "        \n",
    "    players[Player].append((float(Salary), float(Points or 0), float(TPoints or 0)))\n",
    "    \n",
    "tot = []\n",
    "for p, v in players.items():\n",
    "#     print(p, v)\n",
    "    if sum(x[2] for x in v) > 0:\n",
    "        tot.append((p, v[0][0]/sum([x[1] for x in v]), v[0][0]))\n",
    "    \n",
    "tot = sorted(tot, key=lambda x: x[2], reverse=True)[:10]\n",
    "tot"
   ]
  }
 ],
 "metadata": {
  "kernelspec": {
   "display_name": "Python 3",
   "language": "python",
   "name": "python3"
  },
  "language_info": {
   "codemirror_mode": {
    "name": "ipython",
    "version": 3
   },
   "file_extension": ".py",
   "mimetype": "text/x-python",
   "name": "python",
   "nbconvert_exporter": "python",
   "pygments_lexer": "ipython3",
   "version": "3.8.5"
  }
 },
 "nbformat": 4,
 "nbformat_minor": 4
}
