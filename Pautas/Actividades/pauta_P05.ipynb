{
  "nbformat": 4,
  "nbformat_minor": 0,
  "metadata": {
    "kernelspec": {
      "display_name": "Python 3",
      "language": "python",
      "name": "python3"
    },
    "language_info": {
      "codemirror_mode": {
        "name": "ipython",
        "version": 3
      },
      "file_extension": ".py",
      "mimetype": "text/x-python",
      "name": "python",
      "nbconvert_exporter": "python",
      "pygments_lexer": "ipython3",
      "version": "3.8.5"
    },
    "colab": {
      "name": "pauta_P05.ipynb",
      "provenance": []
    }
  },
  "cells": [
    {
      "cell_type": "code",
      "metadata": {
        "id": "Z4-BJH2BeVR7"
      },
      "source": [
        "import urllib.request as net\n",
        "import ssl\n",
        "import bs4\n",
        "import re\n",
        "import datetime"
      ],
      "execution_count": null,
      "outputs": []
    },
    {
      "cell_type": "code",
      "metadata": {
        "id": "J7gNv1L7eVR8"
      },
      "source": [
        "class WebDownloader:\n",
        "    \n",
        "    def __init__(self, link):\n",
        "        self.user_agent = 'Mozilla/5.0 (Windows; U; Windows NT 5.1; en-US; rv:1.9.0.7) Gecko/2009021910 Firefox/3.0.7'\n",
        "        self.url =  link\n",
        "        \n",
        "        \n",
        "    def getHtmlAsString(self):\n",
        "        headers = {'User-Agent':self.user_agent}\n",
        "        request= net.Request(self.url,None,headers)\n",
        "        gcontext = ssl.SSLContext()\n",
        "        response = net.urlopen(request,context=gcontext)\n",
        "        return response.read().decode('utf-8')"
      ],
      "execution_count": null,
      "outputs": []
    },
    {
      "cell_type": "code",
      "metadata": {
        "id": "6xi77lFCeVR8"
      },
      "source": [
        "# variable es la temperatura maxima, y la funcion de agregacion es promedio. \n",
        "def predmeteo(ciudad, n):\n",
        "    ciudades = {'Santiago': ('https://www.tiempo3.com/south-america/chile/santiago?page=14', 'https://www.tutiempo.net/santiago.html'),\n",
        "                'Valparaiso': ('https://www.tiempo3.com/south-america/chile/valparaiso?page=14', 'https://www.tutiempo.net/valparaiso.html'),\n",
        "                'Temuco': ('https://www.tiempo3.com/south-america/chile/araucania/temuco?page=14', 'https://www.tutiempo.net/temuco.html')}\n",
        "    c1, c2 = ciudades[ciudad]\n",
        "\n",
        "    wd = WebDownloader(c1)\n",
        "    sourceCode = wd.getHtmlAsString()\n",
        "    soup1 = bs4.BeautifulSoup(sourceCode)\n",
        "\n",
        "    wd = WebDownloader(c2)\n",
        "    sourceCode = wd.getHtmlAsString()\n",
        "    soup2 = bs4.BeautifulSoup(sourceCode)\n",
        "\n",
        "    text = soup1.findAll(\"div\", class_= \"day_table_wrap\")[0]\n",
        "    lista1 = [int(x.split()[:8][3]) for x in text.get_text().strip().split('Viento      ')[1].split('Km/h    ')]\n",
        "\n",
        "    text = soup2.findAll(\"div\", class_= \"DivContenedorDiasTiempo\")[0]\n",
        "    lista2 = [int(re.sub('\\D', '', x.split()[1])) for x in text.get_text().strip().split('°')[:-1][::2]]\n",
        "\n",
        "    n = min(n, len(lista1), len(lista1))\n",
        "    res = []\n",
        "    for i, (a, b) in enumerate(zip(lista1[:n], lista2[:n])):\n",
        "        res.append((a+b)/2)\n",
        "\n",
        "    d = datetime.datetime.now()\n",
        "    print(f\"\\n\\nPronostico para ciudad: {ciudad}\")\n",
        "    for i in range(len(res)):\n",
        "        dd = d + datetime.timedelta(days=i)\n",
        "        day, month, year = dd.day, dd.month, dd.year\n",
        "        day, month, year\n",
        "        print(f'\\tPara el dia {day}-{month}-{year} la temperatura maxima esperada es de {lista1[i]}°C segun www.tiempo3.com, {lista2[i]}°C segun www.tutiempo.net y es de {res[i]}°C en forma conjunta.')\n"
      ],
      "execution_count": null,
      "outputs": []
    },
    {
      "cell_type": "markdown",
      "metadata": {
        "id": "OxfBBtFYiCSk"
      },
      "source": [
        "# Ejecución"
      ]
    },
    {
      "cell_type": "code",
      "metadata": {
        "colab": {
          "base_uri": "https://localhost:8080/"
        },
        "id": "PyUoKccqiB39",
        "outputId": "d57b2ae4-bb25-4b67-cef6-58568bc54db4"
      },
      "source": [
        "if __name__ == \"__main__\":\n",
        "  predmeteo('Santiago', 6)\n",
        "  predmeteo('Valparaiso', 6)\n",
        "  predmeteo('Temuco', 6)"
      ],
      "execution_count": null,
      "outputs": [
        {
          "output_type": "stream",
          "text": [
            "\n",
            "\n",
            "Pronostico para ciudad: Santiago\n",
            "\tPara el dia 5-12-2020 la temperatura maxima esperada es de 24°C segun www.tiempo3.com, 26°C segun www.tutiempo.net y es de 25.0°C en forma conjunta.\n",
            "\tPara el dia 6-12-2020 la temperatura maxima esperada es de 24°C segun www.tiempo3.com, 28°C segun www.tutiempo.net y es de 26.0°C en forma conjunta.\n",
            "\tPara el dia 7-12-2020 la temperatura maxima esperada es de 24°C segun www.tiempo3.com, 27°C segun www.tutiempo.net y es de 25.5°C en forma conjunta.\n",
            "\tPara el dia 8-12-2020 la temperatura maxima esperada es de 24°C segun www.tiempo3.com, 28°C segun www.tutiempo.net y es de 26.0°C en forma conjunta.\n",
            "\tPara el dia 9-12-2020 la temperatura maxima esperada es de 25°C segun www.tiempo3.com, 29°C segun www.tutiempo.net y es de 27.0°C en forma conjunta.\n",
            "\tPara el dia 10-12-2020 la temperatura maxima esperada es de 20°C segun www.tiempo3.com, 24°C segun www.tutiempo.net y es de 22.0°C en forma conjunta.\n",
            "\n",
            "\n",
            "Pronostico para ciudad: Valparaiso\n",
            "\tPara el dia 5-12-2020 la temperatura maxima esperada es de 17°C segun www.tiempo3.com, 18°C segun www.tutiempo.net y es de 17.5°C en forma conjunta.\n",
            "\tPara el dia 6-12-2020 la temperatura maxima esperada es de 18°C segun www.tiempo3.com, 18°C segun www.tutiempo.net y es de 18.0°C en forma conjunta.\n",
            "\tPara el dia 7-12-2020 la temperatura maxima esperada es de 18°C segun www.tiempo3.com, 18°C segun www.tutiempo.net y es de 18.0°C en forma conjunta.\n",
            "\tPara el dia 8-12-2020 la temperatura maxima esperada es de 23°C segun www.tiempo3.com, 22°C segun www.tutiempo.net y es de 22.5°C en forma conjunta.\n",
            "\tPara el dia 9-12-2020 la temperatura maxima esperada es de 22°C segun www.tiempo3.com, 21°C segun www.tutiempo.net y es de 21.5°C en forma conjunta.\n",
            "\tPara el dia 10-12-2020 la temperatura maxima esperada es de 21°C segun www.tiempo3.com, 20°C segun www.tutiempo.net y es de 20.5°C en forma conjunta.\n",
            "\n",
            "\n",
            "Pronostico para ciudad: Temuco\n",
            "\tPara el dia 5-12-2020 la temperatura maxima esperada es de 27°C segun www.tiempo3.com, 28°C segun www.tutiempo.net y es de 27.5°C en forma conjunta.\n",
            "\tPara el dia 6-12-2020 la temperatura maxima esperada es de 28°C segun www.tiempo3.com, 28°C segun www.tutiempo.net y es de 28.0°C en forma conjunta.\n",
            "\tPara el dia 7-12-2020 la temperatura maxima esperada es de 25°C segun www.tiempo3.com, 26°C segun www.tutiempo.net y es de 25.5°C en forma conjunta.\n",
            "\tPara el dia 8-12-2020 la temperatura maxima esperada es de 22°C segun www.tiempo3.com, 22°C segun www.tutiempo.net y es de 22.0°C en forma conjunta.\n",
            "\tPara el dia 9-12-2020 la temperatura maxima esperada es de 25°C segun www.tiempo3.com, 22°C segun www.tutiempo.net y es de 23.5°C en forma conjunta.\n",
            "\tPara el dia 10-12-2020 la temperatura maxima esperada es de 18°C segun www.tiempo3.com, 19°C segun www.tutiempo.net y es de 18.5°C en forma conjunta.\n"
          ],
          "name": "stdout"
        }
      ]
    }
  ]
}