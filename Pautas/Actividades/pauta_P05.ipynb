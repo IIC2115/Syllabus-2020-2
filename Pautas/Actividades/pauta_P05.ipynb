{
  "nbformat": 4,
  "nbformat_minor": 0,
  "metadata": {
    "kernelspec": {
      "display_name": "Python 3",
      "language": "python",
      "name": "python3"
    },
    "language_info": {
      "codemirror_mode": {
        "name": "ipython",
        "version": 3
      },
      "file_extension": ".py",
      "mimetype": "text/x-python",
      "name": "python",
      "nbconvert_exporter": "python",
      "pygments_lexer": "ipython3",
      "version": "3.8.5"
    },
    "colab": {
      "name": "pauta_P05.ipynb",
      "provenance": [],
      "collapsed_sections": []
    }
  },
  "cells": [
    {
      "cell_type": "code",
      "metadata": {
        "id": "Z4-BJH2BeVR7"
      },
      "source": [
        "import urllib.request as net\n",
        "import ssl\n",
        "import bs4\n",
        "import re\n",
        "import datetime"
      ],
      "execution_count": 1,
      "outputs": []
    },
    {
      "cell_type": "code",
      "metadata": {
        "id": "J7gNv1L7eVR8"
      },
      "source": [
        "class WebDownloader:\n",
        "    \n",
        "    def __init__(self, link):\n",
        "        self.user_agent = 'Mozilla/5.0 (Windows; U; Windows NT 5.1; en-US; rv:1.9.0.7) Gecko/2009021910 Firefox/3.0.7'\n",
        "        self.url =  link\n",
        "        \n",
        "        \n",
        "    def getHtmlAsString(self):\n",
        "        headers = {'User-Agent':self.user_agent}\n",
        "        request= net.Request(self.url,None,headers)\n",
        "        gcontext = ssl.SSLContext()\n",
        "        response = net.urlopen(request,context=gcontext)\n",
        "        return response.read().decode('utf-8')"
      ],
      "execution_count": 2,
      "outputs": []
    },
    {
      "cell_type": "code",
      "metadata": {
        "id": "6xi77lFCeVR8"
      },
      "source": [
        "# variable es la temperatura maxima, y la funcion de agregacion es promedio. \n",
        "def predmeteo(ciudad, n):\n",
        "    ciudades = {'Santiago': ('https://www.tiempo3.com/south-america/chile/santiago?page=14', 'https://www.tutiempo.net/santiago.html'),\n",
        "                'Valparaiso': ('https://www.tiempo3.com/south-america/chile/valparaiso?page=14', 'https://www.tutiempo.net/valparaiso.html'),\n",
        "                'Temuco': ('https://www.tiempo3.com/south-america/chile/araucania/temuco?page=14', 'https://www.tutiempo.net/temuco.html')}\n",
        "    c1, c2 = ciudades[ciudad]\n",
        "\n",
        "    wd = WebDownloader(c1)\n",
        "    sourceCode = wd.getHtmlAsString()\n",
        "    soup1 = bs4.BeautifulSoup(sourceCode)\n",
        "\n",
        "    wd = WebDownloader(c2)\n",
        "    sourceCode = wd.getHtmlAsString()\n",
        "    soup2 = bs4.BeautifulSoup(sourceCode)\n",
        "\n",
        "    text = soup1.findAll(\"div\", class_= \"day_table_wrap\")[0]\n",
        "    lista1 = [int(x.split()[:8][3]) for x in text.get_text().strip().split('Viento      ')[1].split('Km/h    ')]\n",
        "\n",
        "    text = soup2.findAll(\"div\", class_= \"DivContenedorDiasTiempo\")[0]\n",
        "    lista2 = [int(re.sub('\\D', '', x.split()[1])) for x in text.get_text().strip().split('°')[:-1][::2]]\n",
        "\n",
        "    n = min(n, len(lista1), len(lista1))\n",
        "    res = []\n",
        "    for i, (a, b) in enumerate(zip(lista1[:n], lista2[:n])):\n",
        "        res.append((a+b)/2)\n",
        "\n",
        "    d = datetime.datetime.now()\n",
        "    print(f\"\\n\\nPronostico para ciudad: {ciudad}\")\n",
        "    for i in range(len(res)):\n",
        "        dd = d + datetime.timedelta(days=i)\n",
        "        day, month, year = dd.day, dd.month, dd.year\n",
        "        day, month, year\n",
        "        print(f'\\tEl dia {day}-{month}-{year} la temperatura maxima esperada es {lista1[i]}°C segun www.tiempo3.com, {lista2[i]}°C segun www.tutiempo.net y {res[i]}°C en conjunto.')\n"
      ],
      "execution_count": 3,
      "outputs": []
    },
    {
      "cell_type": "markdown",
      "metadata": {
        "id": "OxfBBtFYiCSk"
      },
      "source": [
        "# Ejecución"
      ]
    },
    {
      "cell_type": "code",
      "metadata": {
        "colab": {
          "base_uri": "https://localhost:8080/"
        },
        "id": "PyUoKccqiB39",
        "outputId": "839bfb30-9016-4053-e1bf-37166d1acdd6"
      },
      "source": [
        "if __name__ == \"__main__\":\n",
        "  predmeteo('Santiago', 6)\n",
        "  predmeteo('Valparaiso', 4)\n",
        "  predmeteo('Temuco', 8)"
      ],
      "execution_count": 4,
      "outputs": [
        {
          "output_type": "stream",
          "text": [
            "\n",
            "\n",
            "Pronostico para ciudad: Santiago\n",
            "\tEl dia 7-12-2020 la temperatura maxima esperada es 23°C segun www.tiempo3.com, 26°C segun www.tutiempo.net y 24.5°C en conjunto.\n",
            "\tEl dia 8-12-2020 la temperatura maxima esperada es 29°C segun www.tiempo3.com, 27°C segun www.tutiempo.net y 28.0°C en conjunto.\n",
            "\tEl dia 9-12-2020 la temperatura maxima esperada es 25°C segun www.tiempo3.com, 29°C segun www.tutiempo.net y 27.0°C en conjunto.\n",
            "\tEl dia 10-12-2020 la temperatura maxima esperada es 19°C segun www.tiempo3.com, 23°C segun www.tutiempo.net y 21.0°C en conjunto.\n",
            "\tEl dia 11-12-2020 la temperatura maxima esperada es 21°C segun www.tiempo3.com, 25°C segun www.tutiempo.net y 23.0°C en conjunto.\n",
            "\tEl dia 12-12-2020 la temperatura maxima esperada es 23°C segun www.tiempo3.com, 25°C segun www.tutiempo.net y 24.0°C en conjunto.\n",
            "\n",
            "\n",
            "Pronostico para ciudad: Valparaiso\n",
            "\tEl dia 7-12-2020 la temperatura maxima esperada es 17°C segun www.tiempo3.com, 16°C segun www.tutiempo.net y 16.5°C en conjunto.\n",
            "\tEl dia 8-12-2020 la temperatura maxima esperada es 23°C segun www.tiempo3.com, 21°C segun www.tutiempo.net y 22.0°C en conjunto.\n",
            "\tEl dia 9-12-2020 la temperatura maxima esperada es 22°C segun www.tiempo3.com, 20°C segun www.tutiempo.net y 21.0°C en conjunto.\n",
            "\tEl dia 10-12-2020 la temperatura maxima esperada es 20°C segun www.tiempo3.com, 19°C segun www.tutiempo.net y 19.5°C en conjunto.\n",
            "\n",
            "\n",
            "Pronostico para ciudad: Temuco\n",
            "\tEl dia 7-12-2020 la temperatura maxima esperada es 26°C segun www.tiempo3.com, 25°C segun www.tutiempo.net y 25.5°C en conjunto.\n",
            "\tEl dia 8-12-2020 la temperatura maxima esperada es 22°C segun www.tiempo3.com, 22°C segun www.tutiempo.net y 22.0°C en conjunto.\n",
            "\tEl dia 9-12-2020 la temperatura maxima esperada es 24°C segun www.tiempo3.com, 24°C segun www.tutiempo.net y 24.0°C en conjunto.\n",
            "\tEl dia 10-12-2020 la temperatura maxima esperada es 17°C segun www.tiempo3.com, 19°C segun www.tutiempo.net y 18.0°C en conjunto.\n",
            "\tEl dia 11-12-2020 la temperatura maxima esperada es 20°C segun www.tiempo3.com, 19°C segun www.tutiempo.net y 19.5°C en conjunto.\n",
            "\tEl dia 12-12-2020 la temperatura maxima esperada es 16°C segun www.tiempo3.com, 13°C segun www.tutiempo.net y 14.5°C en conjunto.\n",
            "\tEl dia 13-12-2020 la temperatura maxima esperada es 16°C segun www.tiempo3.com, 22°C segun www.tutiempo.net y 19.0°C en conjunto.\n"
          ],
          "name": "stdout"
        }
      ]
    }
  ]
}