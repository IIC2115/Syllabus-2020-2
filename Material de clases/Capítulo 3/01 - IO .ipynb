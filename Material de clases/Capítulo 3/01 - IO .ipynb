{
 "cells": [
  {
   "cell_type": "markdown",
   "metadata": {},
   "source": [
    "<p>\n",
    "<font size='5' face='Georgia, Arial'>IIC2115 - Programación como herramienta para la ingeniería</font><br>\n",
    "<font size='1'>Basado en material de Karim Pichara y Christian Pieringer. Todos los derechos reservados.</font>\n",
    "</p>"
   ]
  },
  {
   "cell_type": "markdown",
   "metadata": {},
   "source": [
    "# Input/Output (I/O)\n",
    "En este capítulo estudiaremos a fondo el manejo de strings y archivos."
   ]
  },
  {
   "cell_type": "markdown",
   "metadata": {},
   "source": [
    "## Strings\n",
    "Hasta ahora hemos trabajado muchas veces con strings, como sabemos, corresponden a una secuencia inmutable de caracteres. En Python 3, todos los strings se representan en Unicode, codificación que permite representar virtualmente cualquier caracter en cualquier lenguaje. Luego veremos más detalles sobre Unicode. Entonces pensemos que en Python un string es una secuencia inmutable de caracteres Unicode. Aquí algunas formas distintas de crear un string en Python:"
   ]
  },
  {
   "cell_type": "code",
   "execution_count": null,
   "metadata": {},
   "outputs": [],
   "source": [
    "a = \"programando\"\n",
    "b = 'mucho'\n",
    "c = '''un string\n",
    "con múltiples\n",
    "lineas'''\n",
    "\n",
    "d = \"\"\"Multiples con\n",
    "     doble comillas\"\"\"\n",
    "e = (\"Tres\" \"Strings\" \" Juntos\")\n",
    "f = \"un string \" + \"concatenado\"\n",
    "\n",
    "print(a)\n",
    "print(b)\n",
    "print(c)\n",
    "print(d)\n",
    "print(e)\n",
    "print(f)"
   ]
  },
  {
   "cell_type": "markdown",
   "metadata": {},
   "source": [
    "La clase str tiene muchos métodos para manipular strings, aquí podemos obtener la lista:"
   ]
  },
  {
   "cell_type": "code",
   "execution_count": null,
   "metadata": {},
   "outputs": [],
   "source": [
    "print(dir(str))"
   ]
  },
  {
   "cell_type": "markdown",
   "metadata": {},
   "source": [
    "Aquí algunos ejemplos:"
   ]
  },
  {
   "cell_type": "code",
   "execution_count": null,
   "metadata": {},
   "outputs": [],
   "source": [
    "# El método isalpha retorna True si todos los caracteres del string están en el \n",
    "# alfabeto de algún lenguaje.\n",
    "print(\"abñ\".isalpha()) \n",
    "\n",
    "# Si hay algún número, espacio o puntuación dentro del string, retornará falso.\n",
    "print(\"t/\".isalpha())\n",
    "\n",
    "# El método is digit retorna True si todos los caracteres en el string son dígitos\n",
    "# numéricos\n",
    "print(\"34\".isdigit())\n",
    "\n",
    "s = \"estoy programando\"\n",
    "print(s.startswith(\"est\"))\n",
    "print(s.endswith(\"do\"))\n",
    "\n",
    "# Devuelve el indice donde comienza en s la secuencia que se pasa como argumento\n",
    "print(s.find(\"y p\"))\n",
    "\n",
    "# El método index retorna el indice donde comienza la secuencia. Acepta dos argumentos \n",
    "# opcionales: la posición inicial donde comenzar la búsqueda y la posición final \n",
    "# (hasta dónde llega buscando). Se usan de la siguiente forma: \n",
    "# str.index('string', beg=1 end=len(s))\n",
    "print(s.index('y', 4, 10))\n",
    "print(s.index('p', 5, 10))"
   ]
  },
  {
   "cell_type": "markdown",
   "metadata": {},
   "source": [
    "Otros métodos que actúan sobre strings retornan un string nuevo. Ejemplos:"
   ]
  },
  {
   "cell_type": "code",
   "execution_count": null,
   "metadata": {},
   "outputs": [],
   "source": [
    "s = \"hola a todos, cómo están\"\n",
    "s2 = s.split(' ')\n",
    "print(s2)\n",
    "s3 = '#'.join(s2)\n",
    "print(s3)\n",
    "print(s.replace(' ', '**'))\n",
    "print(s)\n",
    "s5 = s.partition(' ')\n",
    "print(s5)\n",
    "print(s)"
   ]
  },
  {
   "cell_type": "markdown",
   "metadata": {},
   "source": [
    "Como ya hemos visto muchas veces, podemos insertar valores de variables dentro de un string usando \"format\":"
   ]
  },
  {
   "cell_type": "code",
   "execution_count": null,
   "metadata": {},
   "outputs": [],
   "source": [
    "nombre = 'Juan Pérez'\n",
    "nota = 4.5\n",
    "if nota >= 4.0:\n",
    "    resultado = 'aprobado'\n",
    "else:\n",
    "    resultado = 'reprobado'\n",
    "\n",
    "template = \"Hola {0}, estás {1}. Tu nota fue un {2}\"\n",
    "print(template.format(nombre, resultado, nota))"
   ]
  },
  {
   "cell_type": "markdown",
   "metadata": {},
   "source": [
    "Si queremos incluir las llaves dentro del string, podemos hacer el \"escape\" usando doble llaves, por ejemplo, si queremos imprimir una simple definición de una clase en Java:"
   ]
  },
  {
   "cell_type": "code",
   "execution_count": null,
   "metadata": {},
   "outputs": [],
   "source": [
    "template = \"\"\"\n",
    "public class {0} \n",
    "{{\n",
    "       public static void main(String[] args) \n",
    "       {{\n",
    "           System.out.println({1});\n",
    "       }} \n",
    "}}\"\"\"\n",
    "\n",
    "print(template.format(\"MiClase\", \"'hola mundo'\"));"
   ]
  },
  {
   "cell_type": "markdown",
   "metadata": {},
   "source": [
    "A veces queremos incluir muchas variables dentro de un string, esto hace que sea difícil recordar el orden en que debemos escribirlas dentro de la función format. Una solución es usar argumentos con keywords en la función format:"
   ]
  },
  {
   "cell_type": "code",
   "execution_count": null,
   "metadata": {},
   "outputs": [],
   "source": [
    "print(\"{} {label} {}\".format(\"x\", \"y\", label=\"z\"))"
   ]
  },
  {
   "cell_type": "code",
   "execution_count": null,
   "metadata": {},
   "outputs": [],
   "source": [
    "template = \"\"\"\n",
    "From: <{from_email}>\n",
    "To: <{to_email}>\n",
    "Subject: {subject}\n",
    "{message}\n",
    "\"\"\"\n",
    "\n",
    "print(template.format(\n",
    "    from_email = \"halobel@ing.puc.cl\",\n",
    "    to_email = \"cualquiera@example.com\",\n",
    "    message = \"\\nreproba3\",#ver como Python concatena esto automáticamente \n",
    "    subject = \"Este correo es urgente\")\n",
    "    )"
   ]
  },
  {
   "cell_type": "markdown",
   "metadata": {},
   "source": [
    "Podemos incluso usar contenedores como listas, tuplas o diccionarios como argumentos dentro de la función format:"
   ]
  },
  {
   "cell_type": "code",
   "execution_count": null,
   "metadata": {},
   "outputs": [],
   "source": [
    "emails = (\"a@ejemplo.com\", \"b@ejemplo.com\")\n",
    "message = {'subject': \"Tienes un correo\", 'message': \"Este es un correo para ti\"}\n",
    "template = \"\"\"\n",
    "From: <{0[0]}>\n",
    "To: <{0[1]}>\n",
    "Subject: {message[subject]} {message[message]}\n",
    "\"\"\" \n",
    "print(template.format(emails, message=message))"
   ]
  },
  {
   "cell_type": "markdown",
   "metadata": {},
   "source": [
    "Podemos incluso usar un diccionario con listas e indexar la lista dentro del string:"
   ]
  },
  {
   "cell_type": "code",
   "execution_count": null,
   "metadata": {},
   "outputs": [],
   "source": [
    "mensaje = {\"emails\": [\"yo@ejemplo.com\", \"tu@ejemplo.com\"], \"subject\": \"mira este correo\", \"message\": \"Sorry no era tan importante\"}\n",
    "\n",
    "template = \"\"\"\n",
    "From: <{0[emails][0]}>\n",
    "To: <{0[emails][1]}>\n",
    "Subject: {0[subject]}\n",
    "{0[message]}\"\"\"\n",
    "\n",
    "print(template.format(mensaje))"
   ]
  },
  {
   "cell_type": "markdown",
   "metadata": {},
   "source": [
    "Esto puede ser aún mejor, podemos pasar cualquier objeto como argumento, por ejemplo, una instancia de una clase, luego dentro del string podemos acceder a cualquiera de los atributos del objeto:"
   ]
  },
  {
   "cell_type": "code",
   "execution_count": null,
   "metadata": {},
   "outputs": [],
   "source": [
    "class EMail:\n",
    "    def __init__(self, from_addr, to_addr, subject, message):\n",
    "        self.from_addr = from_addr\n",
    "        self.to_addr = to_addr\n",
    "        self.subject = subject\n",
    "        self.message = message\n",
    "        \n",
    "email = EMail(\"a@ejemplo.com\", \"b@ejemplo.com\",\"Tienes un correo\",\"\\nEl mensaje es inútil\\n\\nSaludos\")\n",
    "template = \"\"\"\n",
    "From: <{0.from_addr}>\n",
    "To: <{0.to_addr}>\n",
    "Subject: {0.subject}\n",
    "{0.message}\"\"\"\n",
    "print(template.format(email))"
   ]
  },
  {
   "cell_type": "markdown",
   "metadata": {},
   "source": [
    "También podemos mejorar el formato de los strings que se imprimen, por ejemplo, en casos como la impresión de una tabla con datos, muchas veces queremos que datos pertenecientes a la misma variable se vean alineados en columnas:"
   ]
  },
  {
   "cell_type": "code",
   "execution_count": null,
   "metadata": {},
   "outputs": [],
   "source": [
    "compra = [('leche', 2, 120), ('pan', 3.5, 800), ('arroz', 1.75, 960)]\n",
    "\n",
    "print(\"PRODUCTO  CANTIDAD   PRECIO   SUBTOTAL\")\n",
    "for producto, precio, cantidad in compra:\n",
    "    subtotal = precio * cantidad\n",
    "    print(\"{0:8s}{1: ^9d}    ${2: <8.2f}${3: >7.2f}\".format(producto, cantidad, precio, subtotal))"
   ]
  },
  {
   "cell_type": "markdown",
   "metadata": {},
   "source": [
    "Notar que dentro de cada llave existe un item tipo diccionario, es decir, antes de los dos puntos va el índice del argumento dentro de la función format. Después de los dos puntos, por ejemplo, \"8s\", significa que el dato es un string de 8 caracteres. Por default, si el string es más corto que los 8 caracteres, el resto se llenará con espacios (por la derecha). No olvidar que también por default si el string que ingresamos es más largo que los 8 caracteres, este no será truncado:"
   ]
  },
  {
   "cell_type": "code",
   "execution_count": null,
   "metadata": {},
   "outputs": [],
   "source": [
    "compra = [('lecheeeeeeeeeeeeeee', 2, 120), ('pan', 3.5, 800), ('arroz', 1.75, 960)]\n",
    "\n",
    "print(\"PRODUCTO  CANTIDAD   PRECIO   SUBTOTAL\")\n",
    "for producto, precio, cantidad in compra:\n",
    "    subtotal = precio * cantidad\n",
    "    print(\"{0:8s}{1: ^9d}    ${2: <8.2f}${3: >7.2f}\".format(producto, cantidad, precio, subtotal))"
   ]
  },
  {
   "cell_type": "markdown",
   "metadata": {},
   "source": [
    "Podemos cambiar esta situación obligando a que el string sea truncado si se pasa del largo máximo, basta con agregar un punto (precisión) antes del número que indica el largo del string:"
   ]
  },
  {
   "cell_type": "code",
   "execution_count": null,
   "metadata": {},
   "outputs": [],
   "source": [
    "compra = [('lecheeeeeeeeeeeeeee', 2, 120), ('pan', 3.5, 800), ('arroz', 1.75, 960)]\n",
    "\n",
    "print(\"PRODUCTO  CANTIDAD   PRECIO   SUBTOTAL\")\n",
    "for producto, precio, cantidad in compra:\n",
    "    subtotal = precio * cantidad\n",
    "    print(\"{0:.8s}{1: ^9d}    ${2: <8.2f}${3: >7.2f}\".format(producto, cantidad, precio, subtotal))"
   ]
  },
  {
   "cell_type": "markdown",
   "metadata": {},
   "source": [
    "Para la cantidad de producto el formato es {1: ^9d}, el 1 corresponde al índice del argumento en la función format, el espacio después de los dos puntos dice que los lugares vacíos deben ser llenados con espacios (en los tipos enteros el default es llenar con ceros), el símbolo ^ es para que el número quede centrado en el espacio disponible, \"9d\" significa que será un entero de hasta 9 dígitos. Notar que siempre el orden de estos parámetros (aunque son opcionales) debe ser (de izquierda a derecha después de los dos puntos): Primero el caracter para llenar los espacios vacíos, después el alineamiento, después el tamaño y finalmente el tipo.\n",
    "\n",
    "Para el precio por ejemplo, {2: <8.2f} significa que el dato se leerá del tercer argumento de la función format, luego los lugares que queden libres se llenarán con espacios, el símbolo < significa que el alineamiento es a la izquierda, el formato será un float de hasta 8 caracteres, con dos decimales.\n",
    "\n",
    "De la misma forma, para el subtotal, {3: >7.2f} significa que el dato se sacará del cuarto argumento dentro de la función format, el caracter de llenado será espacio, el alineamiento es a la derecha, será un float de 7 digitos, dos de ellos decimales e incluyendo el '.' como caracter.\n"
   ]
  },
  {
   "cell_type": "markdown",
   "metadata": {},
   "source": [
    "# Manejo de Archivos\n",
    "\n",
    "En general hasta ahora hemos operado con la lectura y escritura de archivos de texto, sin embargo los sistemas operativos representan los archivos como secuencias de bytes, no como texto. Dado que leer bytes y convertirlos a texto es una operación muy común en archivos, Python se encarga de manejar los bytes que vienen o van transformándolos a la respectiva representación en string con los encoders/decoders correspondientes. La ya conocida función \"open\" nos permite además de abrir archivos, ingresar como argumentos el set de caracteres que se usará para codificar los bytes y la estrategia que se debe serguir cuando aparezcan bytes inconsistentes con el formato:"
   ]
  },
  {
   "cell_type": "code",
   "execution_count": null,
   "metadata": {},
   "outputs": [],
   "source": [
    "file = open('archivo_ejemplo', \"r\", encoding='ascii', errors='replace')\n",
    "print(file.read())\n",
    "file.close()"
   ]
  },
  {
   "cell_type": "code",
   "execution_count": null,
   "metadata": {},
   "outputs": [],
   "source": [
    "contenido = \"sorry pero ahora yo soy lo que habrá dentro del archivo\"\n",
    "file = open(\"archivo_ejemplo\", \"w\", encoding=\"ascii\", errors=\"replace\")\n",
    "file.write(contenido)\n",
    "file.close()"
   ]
  },
  {
   "cell_type": "markdown",
   "metadata": {},
   "source": [
    "Ahora, si nuevamente tratamos de leer el archivo como al comienzo:"
   ]
  },
  {
   "cell_type": "code",
   "execution_count": null,
   "metadata": {},
   "outputs": [],
   "source": [
    "file = open('archivo_ejemplo', \"r\", encoding='ascii', errors='replace')\n",
    "print(file.read())\n",
    "file.close()"
   ]
  },
  {
   "cell_type": "markdown",
   "metadata": {},
   "source": [
    "Podemos también agregar contenido al final del archivo, reemplazando el modo de apertura del archivo, cambiando la \"w\" por una \"a\":"
   ]
  },
  {
   "cell_type": "code",
   "execution_count": null,
   "metadata": {},
   "outputs": [],
   "source": [
    "contenido = \"\\nyo me agregaré al final\"\n",
    "file = open(\"archivo_ejemplo\", \"a\", encoding=\"ascii\", errors=\"replace\")\n",
    "file.write(contenido)\n",
    "file.close()\n",
    "\n",
    "file = open('archivo_ejemplo', \"r\", encoding='ascii', errors='replace')\n",
    "print(file.read())\n",
    "file.close()"
   ]
  },
  {
   "cell_type": "markdown",
   "metadata": {},
   "source": [
    "Para abrir un archivo como binario, simplemente debemos agregar una \"b\" por el lado derecho del modo de apertura, por ejemplo, \"wb\" o \"rb\". El archivo se comportará igual que un archivo de texto, sólo que sin la codificación automática de byte a texto."
   ]
  },
  {
   "cell_type": "code",
   "execution_count": null,
   "metadata": {},
   "outputs": [],
   "source": [
    "contenido = b\"abcde12\"\n",
    "file = open(\"archivo_ejemplo_2\", \"wb\")\n",
    "file.write(contenido)\n",
    "file.close()\n",
    "\n",
    "file = open('archivo_ejemplo_2', \"rb\")\n",
    "print(file.read())\n",
    "file.close()"
   ]
  },
  {
   "cell_type": "markdown",
   "metadata": {},
   "source": [
    "Podemos además concatenar bytes simplemente con el operador suma, en el siguiente ejemplo construimos un contenido dinámico para ser escrito en un archivo de bytes, después leemos una cantidad fija de bytes desde el mismo archivo:"
   ]
  },
  {
   "cell_type": "code",
   "execution_count": null,
   "metadata": {},
   "outputs": [],
   "source": [
    "num_lineas = 100\n",
    "\n",
    "file = open(\"archivo_ejemplo_3\", \"wb\")\n",
    "for i in range(num_lineas):\n",
    "    # A la función \"bytes\" debemos pasarle un iterable con el contenido a convertir \n",
    "    # por eso le pasamos el entero dentro de una lista  \n",
    "    contenido = b\"linea_\" + bytes([i]) + b\" abcde12 \"                                             \n",
    "    file.write(contenido)\n",
    "file.close()\n",
    "\n",
    "file = open('archivo_ejemplo_3', \"rb\")\n",
    "# El número dentro de la función read nos dice el número de bytes que se van a leer del archivo\n",
    "print(file.read(41))\n",
    "file.close()"
   ]
  },
  {
   "cell_type": "markdown",
   "metadata": {},
   "source": [
    "## Context Manager\n",
    "Dado que siempre necesitamos cerrar un archivo después de usarlo, debemos considerar la posibilidad de que ocurran excepciones mientras el archivo está abierto. Una forma clara de hacerlo es cerrar el archivo dentro de la sentencia finally: después de un try:. El problema es que esto genera mucho código extra. Afortuadamente en Python existe una forma de hacer lo mismo con menos código, a través de un \"context manager\", que se encarga de ejecutar las sentencias try y finally sin la necesidad de llamarlas directamente, sólo necesitamos llamar al archivo que abriremos con la sentencia with. Ejemplo:"
   ]
  },
  {
   "cell_type": "code",
   "execution_count": null,
   "metadata": {},
   "outputs": [],
   "source": [
    "with open(\"archivo_ejemplo_4\", \"r\") as file:\n",
    "    contenido = file.read()"
   ]
  },
  {
   "cell_type": "markdown",
   "metadata": {},
   "source": [
    "El código anterior sería equivalente a hacer lo siguiente:"
   ]
  },
  {
   "cell_type": "code",
   "execution_count": null,
   "metadata": {},
   "outputs": [],
   "source": [
    "file = open(\"archivo_ejemplo_4\", \"r\")\n",
    "try:\n",
    "    contenido = file.read()\n",
    "finally:\n",
    "    file.close()"
   ]
  },
  {
   "cell_type": "markdown",
   "metadata": {},
   "source": [
    "Si ejecutamos dir en un objeto tipo archivo:"
   ]
  },
  {
   "cell_type": "code",
   "execution_count": null,
   "metadata": {},
   "outputs": [],
   "source": [
    "file = open(\"archivo_ejemplo_4\", \"w\")\n",
    "print(dir(file))\n",
    "file.close()"
   ]
  },
  {
   "cell_type": "markdown",
   "metadata": {},
   "source": [
    "Vemos que existen dos métodos llamados **\\__enter\\__** y **\\__exit\\__**. Estos dos métodos transforman el archivo en un \"context manager\". El método **\\__exit\\__** asegura que el archivo será cerrado incluso si aparece una excepción mientras esté abierto. El método **\\__enter\\__** inicializa el archivo o realiza cualquier acción necesaria para setear el contexto del objeto.\n",
    "\n",
    "Para asegurarnos que un archivo usará los métodos **\\__enter\\__** y **\\__exit\\__**, simplemente debemos llamar a la apertura del archivo con el método **with**.\n",
    "\n",
    "Podemos crear nuestros propios context managers, simplemente creamos cualquier clase, agregamos los métodos **\\__enter\\__** y **\\__exit\\__** y podemos llamar a nuestra clase a través del método **with**. Del siguiente ejemplo se puede ver cómo el método **\\__exit\\__** se ejecuta una vez que nos salimos del scope de la sentencia **with**."
   ]
  },
  {
   "cell_type": "code",
   "execution_count": null,
   "metadata": {},
   "outputs": [],
   "source": [
    "import string, random\n",
    "\n",
    "class StringUpper(list): \n",
    "        \n",
    "    def __enter__(self):\n",
    "        return self\n",
    "    \n",
    "    def __exit__(self, type, value, tb):\n",
    "        for i in range(len(self)):\n",
    "            self[i] = self[i].upper()\n",
    "        \n",
    "\n",
    "with StringUpper() as s_upper:\n",
    "    for i in range(20):\n",
    "        # Aquí se va seleccionando en forma aleatoria un ascii en minúsculas y las\n",
    "        # agregamos a la lista\n",
    "        s_upper.append(random.choice(string.ascii_lowercase))\n",
    "    print(s_upper)\n",
    "        \n",
    "print(s_upper)"
   ]
  },
  {
   "cell_type": "markdown",
   "metadata": {},
   "source": [
    "El código anterior simplemente corresponde a una clase que hereda de la clase **list**, al implementar los métodos **\\__enter\\__** y **\\__exit\\__** podemos instanciar la clase a través de un context manager, en este ejemplo en particular, el context manager se encarga de transformar todos los caracteres ascii de la lista a mayúsculas."
   ]
  }
 ],
 "metadata": {
  "kernelspec": {
   "display_name": "Python 3",
   "language": "python",
   "name": "python3"
  },
  "language_info": {
   "codemirror_mode": {
    "name": "ipython",
    "version": 3
   },
   "file_extension": ".py",
   "mimetype": "text/x-python",
   "name": "python",
   "nbconvert_exporter": "python",
   "pygments_lexer": "ipython3",
   "version": "3.6.3"
  }
 },
 "nbformat": 4,
 "nbformat_minor": 2
}