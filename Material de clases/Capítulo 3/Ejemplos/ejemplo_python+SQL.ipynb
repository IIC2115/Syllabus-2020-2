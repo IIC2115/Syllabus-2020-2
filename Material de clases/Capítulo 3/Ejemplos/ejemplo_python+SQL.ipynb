{
 "cells": [
  {
   "cell_type": "markdown",
   "metadata": {},
   "source": [
    "# Ejemplo Python-SQL\n",
    "\n",
    "Considere las siguientes relaciones:\n",
    "- Flights(flno: integer, origin: string, destination: string, distance: integer, departs: time, arrives: time, price: integer)\n",
    "- Aircraft(aid: integer, aname: string, cruisingrange: integer)\n",
    "- Employees(eid: integer, ename: string, salary: integer)\n",
    "- Certified(eid, aid)\n",
    "\n",
    "Considere que la relación _Employees_ describe tanto a pilotos como a otro tipo de trabajador, que cada piloto está certificado para volar al menos un avión y que solo los pilotos están certificados para volar.\n",
    "\n",
    "En base a esto, construya una base de datos en SQLite con este esquema, cargue las tablas con los datos contenidos en los archivos .txt correspondientes, y escriba las consultas SQL para responder a las preguntas que se indican a continuación:\n",
    "- Encuentre los nombres de los pilotos certificados para volar algún avión Boeing.\n",
    "- Encuentre los nombres de los pilotos que están certificados para volar aviones con autonomía de más de 1000 millas.\n",
    "- Por cada piloto que está certificado para volar más de tres aviones, encuentre el _id_ y la autonomía del avión con máxima autonomía para el que está certificado.\n",
    "- Encuentre los _id_ de los aviones que pueden ser usados en rutas de Los Ángeles a Chicago.\n",
    "- Encuentre los nombres de los pilotos cuyo sueldo es menor que el precio del vuelo más barato de Los Ángeles a Honolulu.\n",
    "- Encuentre los nombres de los aviones cuyos pilotos certificados tienen todos sueldos mayores a US$ 80.000."
   ]
  },
  {
   "cell_type": "markdown",
   "metadata": {},
   "source": [
    "## Creación de tablas y carga de datos"
   ]
  },
  {
   "cell_type": "code",
   "execution_count": null,
   "metadata": {},
   "outputs": [],
   "source": []
  },
  {
   "cell_type": "markdown",
   "metadata": {},
   "source": [
    "## Consultas"
   ]
  },
  {
   "cell_type": "code",
   "execution_count": null,
   "metadata": {},
   "outputs": [],
   "source": [
    "# Encuentre los nombres de los pilotos certificados para volar algún avión Boeing.\n"
   ]
  },
  {
   "cell_type": "code",
   "execution_count": null,
   "metadata": {},
   "outputs": [],
   "source": [
    "# Encuentre los nombres de los pilotos que están certificados para volar aviones con autonomía de más de 1000 millas.\n"
   ]
  },
  {
   "cell_type": "code",
   "execution_count": null,
   "metadata": {},
   "outputs": [],
   "source": [
    "# Encuentre los nombres de los pilotos que están certificados para volar SOLO aviones con autonomía de más de 1000 millas.\n"
   ]
  },
  {
   "cell_type": "code",
   "execution_count": null,
   "metadata": {},
   "outputs": [],
   "source": [
    "# Por cada piloto que está certificado para volar más de tres aviones, encuentre el id del piloto y la autonomía del avión \n",
    "# con máxima autonomía para el que está certificado.\n"
   ]
  },
  {
   "cell_type": "code",
   "execution_count": null,
   "metadata": {},
   "outputs": [],
   "source": [
    "# Encuentre los id y nombres de los aviones que pueden ser usados en rutas de Los Ángeles a Chicago.\n"
   ]
  },
  {
   "cell_type": "code",
   "execution_count": null,
   "metadata": {},
   "outputs": [],
   "source": [
    "# Encuentre los nombres de los pilotos cuyo sueldo es menor que el precio del vuelo más barato de Los Ángeles a Honolulu.\n"
   ]
  },
  {
   "cell_type": "code",
   "execution_count": null,
   "metadata": {},
   "outputs": [],
   "source": [
    "# Encuentre los nombres de los aviones cuyos pilotos certificados tienen todos sueldos mayores a US$ 80.000.\n"
   ]
  }
 ],
 "metadata": {
  "kernelspec": {
   "display_name": "Python 3",
   "language": "python",
   "name": "python3"
  },
  "language_info": {
   "codemirror_mode": {
    "name": "ipython",
    "version": 3
   },
   "file_extension": ".py",
   "mimetype": "text/x-python",
   "name": "python",
   "nbconvert_exporter": "python",
   "pygments_lexer": "ipython3",
   "version": "3.8.6"
  }
 },
 "nbformat": 4,
 "nbformat_minor": 4
}
