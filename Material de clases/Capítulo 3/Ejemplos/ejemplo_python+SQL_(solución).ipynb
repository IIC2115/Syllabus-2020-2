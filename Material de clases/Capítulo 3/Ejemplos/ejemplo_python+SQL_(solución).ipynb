{
 "cells": [
  {
   "cell_type": "markdown",
   "metadata": {},
   "source": [
    "# Ejemplo Python-SQL\n",
    "\n",
    "Considere las siguientes relaciones:\n",
    "- Flights(flno: integer, origin: string, destination: string, distance: integer, departs: time, arrives: time, price: integer)\n",
    "- Aircraft(aid: integer, aname: string, cruisingrange: integer)\n",
    "- Employees(eid: integer, ename: string, salary: integer)\n",
    "- Certified(eid, aid)\n",
    "\n",
    "Considere que la relación _Employees_ describe tanto a pilotos como a otro tipo de trabajador, que cada piloto está certificado para volar al menos un avión y que solo los pilotos están certificados para volar.\n",
    "\n",
    "En base a esto, construya una base de datos en SQLite con este esquema, pueble las tablas con los datos contenidos en los archivos .txt correspondientes, y escriba las consultas SQL para responder a las preguntas que se indican a continuación:\n",
    "- Encuentre los nombres de los pilotos certificados para volar algún avión Boeing.\n",
    "- Encuentre los nombres de los pilotos que están certificados para volar aviones con autonomía de más de 1000 millas.\n",
    "- Por cada piloto que está certificado para volar más de tres aviones, encuentre el _id_ y la autonomía del avión con máxima autonomía para el que está certificado.\n",
    "- Encuentre los _id_ de los aviones que pueden ser usados en rutas de Los Ángeles a Chicago.\n",
    "- Encuentre los nombres de los pilotos cuyo sueldo es menor que el precio del vuelo más barato de Los Ángeles a Honolulu.\n",
    "- Encuentre los nombres de los aviones cuyos pilotos certificados tienen todos sueldos mayores a US$ 80.000."
   ]
  },
  {
   "cell_type": "markdown",
   "metadata": {},
   "source": [
    "## Creación de tablas y carga de datos"
   ]
  },
  {
   "cell_type": "code",
   "execution_count": null,
   "metadata": {},
   "outputs": [],
   "source": [
    "import sqlite3\n",
    "import csv"
   ]
  },
  {
   "cell_type": "code",
   "execution_count": null,
   "metadata": {},
   "outputs": [],
   "source": [
    "connection = sqlite3.connect('example.db') \n",
    "cursor = connection.cursor()"
   ]
  },
  {
   "cell_type": "code",
   "execution_count": null,
   "metadata": {},
   "outputs": [],
   "source": [
    "cursor.execute(\"CREATE TABLE Flights(flno INTEGER PRIMARY KEY, origin TEXT, destination TEXT, \\\n",
    "                distance INTEGER, departs DATE, arrives DATE, price REAL)\")\n",
    "with open('flights.txt') as f:\n",
    "    for line in csv.reader(f):\n",
    "        cursor.execute('INSERT INTO flights VALUES (?,?,?,?,?,?,?)', line)"
   ]
  },
  {
   "cell_type": "code",
   "execution_count": null,
   "metadata": {},
   "outputs": [],
   "source": [
    "cursor.execute(\"CREATE TABLE Aircraft(aid INTEGER PRIMARY KEY, aname TEXT, cruisingrange INTEGER)\")\n",
    "with open('aircraft.txt') as f:\n",
    "    for line in csv.reader(f):\n",
    "        cursor.execute('INSERT INTO aircraft VALUES (:aid,:aname,:cruisingrange)', \n",
    "                       {\"aid\": line[0], \"aname\": line[1], \"cruisingrange\": line[2]})"
   ]
  },
  {
   "cell_type": "code",
   "execution_count": null,
   "metadata": {},
   "outputs": [],
   "source": [
    "cursor.execute(\"CREATE TABLE Employees(eid INTEGER PRIMARY KEY, ename TEXT, salary REAL)\")\n",
    "with open('employees.txt') as f:\n",
    "    for line in csv.reader(f):\n",
    "        cursor.execute('INSERT INTO employees VALUES (?,?,?)', tuple(line))"
   ]
  },
  {
   "cell_type": "code",
   "execution_count": null,
   "metadata": {},
   "outputs": [],
   "source": [
    "cursor.execute(\"CREATE TABLE Certified(eid INTEGER, aid INTEGER, PRIMARY KEY(eid,aid), \\\n",
    "                FOREIGN KEY(eid) REFERENCES employees, FOREIGN KEY(aid) REFERENCES aircraft)\")\n",
    "with open('certified.txt') as f:\n",
    "    for line in csv.reader(f):\n",
    "        cursor.execute('INSERT INTO certified VALUES (?,?)', tuple(line))"
   ]
  },
  {
   "cell_type": "code",
   "execution_count": null,
   "metadata": {},
   "outputs": [],
   "source": [
    "connection.commit()"
   ]
  },
  {
   "cell_type": "code",
   "execution_count": null,
   "metadata": {},
   "outputs": [],
   "source": [
    "for e in cursor.execute('SELECT ename, salary \\\n",
    "                         FROM employees \\\n",
    "                         ORDER BY ename'):\n",
    "    print(e)"
   ]
  },
  {
   "cell_type": "code",
   "execution_count": null,
   "metadata": {},
   "outputs": [],
   "source": [
    "connection.close()"
   ]
  },
  {
   "cell_type": "markdown",
   "metadata": {},
   "source": [
    "## Consultas"
   ]
  },
  {
   "cell_type": "code",
   "execution_count": null,
   "metadata": {},
   "outputs": [],
   "source": [
    "# Encuentre los nombres de los pilotos certificados para volar algún avión Boeing.\n",
    "\n",
    "connection = sqlite3.connect('example.db') \n",
    "cursor = connection.cursor()\n",
    "cursor.execute(\"SELECT DISTINCT E.ename \\\n",
    "                FROM Employees E, Certified C, Aircraft A \\\n",
    "                WHERE E.eid = C.eid AND C.aid = A.aid AND A.aname LIKE '%Boeing%'\")\n",
    "for r in cursor:\n",
    "    print(r[0])\n",
    "connection.close()"
   ]
  },
  {
   "cell_type": "code",
   "execution_count": null,
   "metadata": {},
   "outputs": [],
   "source": [
    "# Encuentre los nombres de los pilotos que están certificados para volar aviones con autonomía de más de 1000 millas.\n",
    "\n",
    "connection = sqlite3.connect('example.db') \n",
    "cursor = connection.cursor()\n",
    "cursor.execute('SELECT DISTINCT E.ename \\\n",
    "                FROM Employees E, Certified C, Aircraft A \\\n",
    "                WHERE C.aid = A.aid AND E.eid = C.eid AND A.cruisingrange > 1000')\n",
    "for r in cursor:\n",
    "    print(r[0])\n",
    "connection.close()"
   ]
  },
  {
   "cell_type": "code",
   "execution_count": null,
   "metadata": {},
   "outputs": [],
   "source": [
    "# Encuentre los nombres de los pilotos que están certificados para volar SOLO aviones con autonomía de más de 1000 millas.\n",
    "\n",
    "connection = sqlite3.connect('example.db') \n",
    "cursor = connection.cursor()\n",
    "cursor.execute('SELECT E.ename \\\n",
    "                FROM Employees E, Certified C, Aircraft A \\\n",
    "                WHERE C.aid = A.aid AND E.eid = C.eid \\\n",
    "                GROUP BY E.eid, E.ename \\\n",
    "                HAVING A.cruisingrange > 1000')\n",
    "for r in cursor:\n",
    "    print(r[0])\n",
    "connection.close()"
   ]
  },
  {
   "cell_type": "code",
   "execution_count": null,
   "metadata": {},
   "outputs": [],
   "source": [
    "# Por cada piloto que está certificado para volar más de tres aviones, encuentre el id del piloto y la autonomía del avión \n",
    "# con máxima autonomía para el que está certificado.\n",
    "\n",
    "connection = sqlite3.connect('example.db') \n",
    "cursor = connection.cursor()\n",
    "cursor.execute('SELECT C.eid, MAX (A.cruisingrange) \\\n",
    "                FROM Certified C, Aircraft A \\\n",
    "                WHERE C.aid = A.aid \\\n",
    "                GROUP BY C.eid \\\n",
    "                HAVING COUNT (*) > 3')\n",
    "for r in cursor:\n",
    "    print(r[0], r[1])\n",
    "connection.close()"
   ]
  },
  {
   "cell_type": "code",
   "execution_count": null,
   "metadata": {},
   "outputs": [],
   "source": [
    "# Encuentre los id y nombres de los aviones que pueden ser usados en rutas de Los Ángeles a Chicago.\n",
    "\n",
    "connection = sqlite3.connect('example.db') \n",
    "cursor = connection.cursor()\n",
    "cursor.execute(\"SELECT A.aid, A.aname \\\n",
    "                FROM Aircraft A \\\n",
    "                WHERE A.cruisingrange > (SELECT MIN (F.distance) \\\n",
    "                                         FROM Flights F \\\n",
    "                                         WHERE F.origin = 'Los Angeles' AND F.destination = 'Chicago')\")\n",
    "for r in cursor:\n",
    "    print(r[0], r[1])\n",
    "connection.close()"
   ]
  },
  {
   "cell_type": "code",
   "execution_count": null,
   "metadata": {},
   "outputs": [],
   "source": [
    "# Encuentre los nombres de los pilotos cuyo sueldo es menor que el precio del vuelo más barato de Los Ángeles a Honolulu.\n",
    "\n",
    "connection = sqlite3.connect('example.db') \n",
    "cursor = connection.cursor()\n",
    "cursor.execute(\"SELECT DISTINCT E.ename \\\n",
    "                FROM Employees E \\\n",
    "                WHERE E.salary < (SELECT MIN (F.price) \\\n",
    "                                  FROM Flights F \\\n",
    "                                  WHERE F.origin = 'Los Angeles' AND F.destination = 'Honolulu')\")\n",
    "for r in cursor:\n",
    "    print(r[0])\n",
    "connection.close()\n"
   ]
  },
  {
   "cell_type": "code",
   "execution_count": null,
   "metadata": {},
   "outputs": [],
   "source": [
    "# Encuentre los nombres de los aviones cuyos pilotos certificados tienen todos sueldos mayores a US$ 80.000.\n",
    "\n",
    "connection = sqlite3.connect('example.db') \n",
    "cursor = connection.cursor()\n",
    "cursor.execute(\"SELECT DISTINCT A.aname \\\n",
    "                FROM Aircraft A \\\n",
    "                WHERE A.Aid IN (SELECT C.aid \\\n",
    "                                FROM Certified C, Employees E \\\n",
    "                                WHERE C.eid = E.eid AND NOT EXISTS (SELECT * \\\n",
    "                                                                    FROM Employees E1 \\\n",
    "                                                                    WHERE E1.eid = E.eid AND E1.salary < 80000))\")\n",
    "for r in cursor:\n",
    "    print(r[0])\n",
    "connection.close()"
   ]
  }
 ],
 "metadata": {
  "kernelspec": {
   "name": "Python 3.8.6 64-bit",
   "display_name": "Python 3.8.6 64-bit",
   "metadata": {
    "interpreter": {
     "hash": "432ee9dc30be07d38c29275a8ba4708057635a20469ddd67f0dfa942a950c372"
    }
   }
  },
  "language_info": {
   "codemirror_mode": {
    "name": "ipython",
    "version": 3
   },
   "file_extension": ".py",
   "mimetype": "text/x-python",
   "name": "python",
   "nbconvert_exporter": "python",
   "pygments_lexer": "ipython3",
   "version": "3.8.6-final"
  }
 },
 "nbformat": 4,
 "nbformat_minor": 2
}