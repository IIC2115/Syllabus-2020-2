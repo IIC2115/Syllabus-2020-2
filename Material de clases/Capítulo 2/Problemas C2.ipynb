{
 "cells": [
  {
   "cell_type": "markdown",
   "metadata": {},
   "source": [
    "## Problemas Clase 2 (Parte 1 y 2)"
   ]
  },
  {
   "cell_type": "markdown",
   "metadata": {},
   "source": [
    "### Problema 1\n",
    "\n",
    "Dada una cadena de texto que utiliza los parentesis: $( ) [ ] \\{ \\}$\n",
    "determine si se encuentra balanceada o no. \n",
    "        \n",
    "**Entrada:**\n",
    "```python\n",
    "'()({[]})' \n",
    "```\n",
    "\n",
    "**Salida:**\n",
    "```python\n",
    "    True\n",
    "```"
   ]
  },
  {
   "cell_type": "code",
   "execution_count": null,
   "metadata": {},
   "outputs": [],
   "source": [
    "def problema_1(parentesis):\n",
    "    # Logica de resolucion\n",
    "    stack = []\n",
    "    apertura = ['(', '[', '{']\n",
    "    cierre = [')', ']', '}']\n",
    "\n",
    "    for p in parentesis:\n",
    "\n",
    "        if p in apertura:\n",
    "            stack.append(p)\n",
    "        \n",
    "        elif p in cierre:\n",
    "\n",
    "            if len(stack) == 0:\n",
    "                return False\n",
    "\n",
    "            ultimo = stack.pop()\n",
    "            if apertura.index(ultimo) != cierre.index(p):\n",
    "                return False\n",
    "\n",
    "    if len(stack) == 0:\n",
    "        return True\n",
    "    else:\n",
    "        return False"
   ]
  },
  {
   "cell_type": "code",
   "execution_count": null,
   "metadata": {},
   "outputs": [],
   "source": [
    "ejemplo = '()({[]})' \n",
    "ejemplo2 = '([)]'\n",
    "\n",
    "# stack = []\n",
    "# stack  = ['(']\n",
    "# stack = ['(', '[']\n",
    "# ultimo = '[' -> 1\n",
    "# p = ')' -> 0\n",
    "\n",
    "\n",
    "problema_1(ejemplo2)"
   ]
  },
  {
   "cell_type": "markdown",
   "metadata": {},
   "source": [
    "### Problema 2\n",
    "\n",
    "Dada una lista $L$ de números naturales, encuentre todos los tríos $(L[i],L[j],L[k])$ con $i\\neq j\\neq k$, tales que $L[i]^2+L[j]^2=L[k]^2$. La solución entregada no puede estar basada en fuerza bruta, *i.e.*, no se puede solucionar el problema probando cada uno de los posibles tríos $(i,j,k)$.\n",
    "        \n",
    "**Entrada:**\n",
    "```python\n",
    "[2, 3, 4, 6, 7, 12, 13, 15, 5, 17, 14, 22]\n",
    "```\n",
    "\n",
    "**Salida:**\n",
    "```python\n",
    "    [[3,4,5],[5,12,13]]\n",
    "```"
   ]
  },
  {
   "cell_type": "code",
   "execution_count": 1,
   "metadata": {},
   "outputs": [],
   "source": [
    "import math\n",
    "\n",
    "#En vez de aplicar fuerza bruta, que seria aplicar un triple for y evaluar la \n",
    "#condición para 3 numeros, haremos lo siguiente:\n",
    "# Determinar los cuadrados\n",
    "# Evaluar si el cuadrado puede formarse por la suma de los cuadrados de los demás\n",
    "\n",
    "def problema_2(L):\n",
    "    \n",
    "    # Dentro de L estan todos los elementos sin repetir\n",
    "    L = list(set(L))   \n",
    "    \n",
    "    # Los elevamos al cuadrado\n",
    "    S2 = {l**2 for l in L}\n",
    "\n",
    "    L2 = list(S2)    \n",
    "    R = []       \n",
    "    for i in range(len(L)):\n",
    "        x = L2[i]\n",
    "        for j in range(i,len(L)):\n",
    "            index = x + L2[j]            \n",
    "            if (index in S2):                                \n",
    "                R.append([int(math.sqrt(x)), int(math.sqrt(L2[j])), int(math.sqrt(index))])\n",
    "    return R"
   ]
  },
  {
   "cell_type": "code",
   "execution_count": 2,
   "metadata": {},
   "outputs": [
    {
     "data": {
      "text/plain": [
       "[[3, 4, 5], [12, 5, 13]]"
      ]
     },
     "execution_count": 2,
     "metadata": {},
     "output_type": "execute_result"
    }
   ],
   "source": [
    "problema_2([2, 3, 4, 6, 7, 12, 13, 15, 5, 17, 14, 22])"
   ]
  },
  {
   "cell_type": "markdown",
   "metadata": {
    "colab_type": "text",
    "id": "kD6EdYIo1X2Y"
   },
   "source": [
    "### Problema 3\n",
    "\n",
    "Considere un conjunto de alumnos, donde cada uno tiene asociado una nota 𝒏 (natural positivo). \n",
    "\n",
    "Escriba un programa que dado el conjunto de alumnos y sus notas, y un número 𝒌 (natural positivo), retorne 𝒌 grupos de estudio disjuntos, tales que la suma de las notas parciales de los alumnos en cada grupo sea la misma.\n",
    "\n",
    "**Entrada:**\n",
    "\n",
    "```python\n",
    "notas = [4, 3, 2, 3, 5, 2, 1]\n",
    "k = 4\n",
    "```\n",
    "\n",
    "**Salida:**\n",
    "```python\n",
    "[[4, 1], [3, 2], [3, 2], [5]]\n",
    "```"
   ]
  },
  {
   "cell_type": "markdown",
   "metadata": {
    "colab_type": "text",
    "id": "6FOCK6Se5GTj"
   },
   "source": [
    "**Solución:** Para entender la solución, se recomienda partir por la celda donde se define la función `grupos_estudio` y luego seguir con la celda donde se define la función `search`."
   ]
  },
  {
   "cell_type": "code",
   "execution_count": 3,
   "metadata": {
    "colab": {},
    "colab_type": "code",
    "id": "QGbwTy_Z2u2T"
   },
   "outputs": [],
   "source": [
    "def search(groups, notas, target):\n",
    "        for group in groups:\n",
    "            if sum(group) > target:\n",
    "                return False\n",
    "        if not notas: \n",
    "            return True\n",
    "        v = notas.pop()\n",
    "        for group in groups:\n",
    "            group.append(v)\n",
    "            if search(groups, notas, target): \n",
    "                return True\n",
    "            group.pop()\n",
    "        notas.append(v)\n",
    "        return False"
   ]
  },
  {
   "cell_type": "code",
   "execution_count": 4,
   "metadata": {
    "colab": {},
    "colab_type": "code",
    "id": "ObfYOI385ZCv"
   },
   "outputs": [],
   "source": [
    "def grupos_estudio(notas, k):\n",
    "    target, resto = divmod(sum(notas), k)\n",
    "    if resto != 0 or len(notas) < k: \n",
    "        return []\n",
    "\n",
    "    notas.sort()\n",
    "    if notas[-1] > target: \n",
    "        return []\n",
    "\n",
    "    pre_groups = []\n",
    "    while notas and notas[-1] == target:\n",
    "        notas.pop()\n",
    "        k -= 1\n",
    "        pre_groups.append([target])\n",
    "\n",
    "    groups = [[] for i in range(k)]    \n",
    "    search(groups, notas, target)\n",
    "    return groups + pre_groups"
   ]
  },
  {
   "cell_type": "code",
   "execution_count": 5,
   "metadata": {
    "colab": {
     "base_uri": "https://localhost:8080/",
     "height": 34
    },
    "colab_type": "code",
    "id": "bOdsUAXO5ceN",
    "outputId": "9a4894d0-db80-4710-fb4e-b2b392ee6f68"
   },
   "outputs": [
    {
     "name": "stdout",
     "output_type": "stream",
     "text": [
      "[[4, 1], [3, 2], [3, 2], [5]]\n"
     ]
    }
   ],
   "source": [
    "solucion = grupos_estudio(notas, k)\n",
    "print(solucion)"
   ]
  }
 ],
 "metadata": {
  "colab": {
   "name": "problema3.ipynb",
   "provenance": []
  },
  "kernelspec": {
   "display_name": "Python 3",
   "language": "python",
   "name": "python3"
  },
  "language_info": {
   "codemirror_mode": {
    "name": "ipython",
    "version": 3
   },
   "file_extension": ".py",
   "mimetype": "text/x-python",
   "name": "python",
   "nbconvert_exporter": "python",
   "pygments_lexer": "ipython3",
   "version": "3.8.5"
  }
 },
 "nbformat": 4,
 "nbformat_minor": 1
}
