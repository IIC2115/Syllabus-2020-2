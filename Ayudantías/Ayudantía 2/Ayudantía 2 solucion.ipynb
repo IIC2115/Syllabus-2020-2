{
 "cells": [
  {
   "cell_type": "markdown",
   "metadata": {},
   "source": [
    "# Programación como Herramienta para la Ingeniería 2020-2\n",
    "## Ayudantía 2: Bases de datos y archivos\n",
    "### Ayudante: Pablo Seisdedos (pcseisdedos@uc.cl)\n",
    "\n",
    "\n"
   ]
  },
  {
   "cell_type": "markdown",
   "metadata": {},
   "source": [
    "## Parte I: Conociendo la base de datos\n",
    "Lo primero que vamos a hacer es entender la información que viene en la base de datos, para esto realizaremos algunas consultas que nos permitirán visualizar y comprender los datos."
   ]
  },
  {
   "cell_type": "code",
   "execution_count": 1,
   "metadata": {},
   "outputs": [],
   "source": [
    "import sqlite3\n",
    "import csv"
   ]
  },
  {
   "cell_type": "markdown",
   "metadata": {},
   "source": [
    "Uso de **PRAGMA table_info**:"
   ]
  },
  {
   "cell_type": "markdown",
   "metadata": {},
   "source": [
    "|Datos en pragma table|\tSignificado|\n",
    "| :-: | :--------------- |\n",
    "|cid\t|Id de la columna.|\n",
    "|name\t| Nombre de la columna.|\n",
    "|type| Indica el tipo de dato en dicha columna.|\n",
    "|notnull\t|Indica si la columna tiene una restriccion de no nulidad.|\n",
    "|dflt_value\t|El valor por defecto de la columna.|\n",
    "|pk\t|Binaria que vale 1 si la columna es PK y 0 si no.|"
   ]
  },
  {
   "cell_type": "code",
   "execution_count": 2,
   "metadata": {},
   "outputs": [],
   "source": [
    "def imprime_datos(BD_name): # Se debe ejecutar con la base de datos abierta.\n",
    "    sql_statement = \"SELECT name FROM sqlite_master WHERE type = 'table';\"\n",
    "    cursor.execute(sql_statement)\n",
    "    tablas = [nombre[0] for nombre in cursor.fetchall()]\n",
    "\n",
    "    print(f\"Información base de datos: {BD_name}\")\n",
    "    for tabla in tablas:\n",
    "        print(2*'\\n'+ f\"Información tabla {tabla}:\")\n",
    "        sql_statement = \"PRAGMA table_info({})\".format(tabla) #cid  name  type  notnull  dflt_value  pk\n",
    "        cursor.execute(sql_statement)\n",
    "\n",
    "        for columna in cursor:\n",
    "            cid, name, tipo, notnull, dflt_val, pk = *columna,\n",
    "            print(f'\\tInformación columna {cid} - {name}: {tipo}, {notnull}, {dflt_val}, {pk}')"
   ]
  },
  {
   "cell_type": "code",
   "execution_count": 3,
   "metadata": {},
   "outputs": [
    {
     "name": "stdout",
     "output_type": "stream",
     "text": [
      "Información base de datos: airport.db\n",
      "\n",
      "\n",
      "Información tabla Flights:\n",
      "\tInformación columna 0 - flno: INTEGER, 0, None, 0\n",
      "\tInformación columna 1 - origin: TEXT, 0, None, 0\n",
      "\tInformación columna 2 - destination: TEXT, 0, None, 0\n",
      "\tInformación columna 3 - distance: INTEGER, 0, None, 0\n",
      "\tInformación columna 4 - departs: TIME, 0, None, 0\n",
      "\tInformación columna 5 - arrives: TIME, 0, None, 0\n",
      "\tInformación columna 6 - price: INTEGER, 0, None, 0\n",
      "\n",
      "\n",
      "Información tabla Certified:\n",
      "\tInformación columna 0 - eid: INT, 0, None, 0\n",
      "\tInformación columna 1 - ename: TEXT, 0, None, 0\n",
      "\tInformación columna 2 - salary: INT, 0, None, 0\n",
      "\tInformación columna 3 - aid: INT, 0, None, 0\n",
      "\tInformación columna 4 - aname: TEXT, 0, None, 0\n",
      "\tInformación columna 5 - cruisingrange: INT, 0, None, 0\n"
     ]
    }
   ],
   "source": [
    "BD_name = 'airport.db'\n",
    "connection = sqlite3.connect(BD_name)\n",
    "cursor = connection.cursor()\n",
    "imprime_datos(BD_name)"
   ]
  },
  {
   "cell_type": "code",
   "execution_count": 4,
   "metadata": {},
   "outputs": [
    {
     "data": {
      "text/plain": [
       "<sqlite3.Cursor at 0x26264b7eea0>"
      ]
     },
     "execution_count": 4,
     "metadata": {},
     "output_type": "execute_result"
    }
   ],
   "source": [
    "cursor.execute(\"SELECT * FROM Certified\")"
   ]
  },
  {
   "cell_type": "code",
   "execution_count": 5,
   "metadata": {},
   "outputs": [
    {
     "data": {
      "text/plain": [
       "[(242518965, 'James Smith', 120433, 2, 'Boeing 737-800', 3383),\n",
       " (242518965, 'James Smith', 120433, 10, 'Boeing 757-300', 4010),\n",
       " (141582651, 'Mary Johnson', 178345, 2, 'Boeing 737-800', 3383),\n",
       " (141582651, 'Mary Johnson', 178345, 10, 'Boeing 757-300', 4010),\n",
       " (141582651, 'Mary Johnson', 178345, 12, 'Boeing 767-400ER', 6475),\n",
       " (11564812, 'John Williams', 153972, 2, 'Boeing 737-800', 3383),\n",
       " (11564812, 'John Williams', 153972, 10, 'Boeing 757-300', 4010),\n",
       " (567354612, 'Lisa Walker', 256481, 1, 'Boeing 747-400', 8430),\n",
       " (567354612, 'Lisa Walker', 256481, 2, 'Boeing 737-800', 3383),\n",
       " (567354612, 'Lisa Walker', 256481, 3, 'Airbus A340-300', 7120),\n",
       " (567354612, 'Lisa Walker', 256481, 4, 'British Aerospace Jetstream 41', 1502),\n",
       " (567354612, 'Lisa Walker', 256481, 5, 'Embraer ERJ-145', 1530),\n",
       " (567354612, 'Lisa Walker', 256481, 7, 'Piper Archer III', 520),\n",
       " (567354612, 'Lisa Walker', 256481, 9, 'Lockheed L1011', 6900),\n",
       " (567354612, 'Lisa Walker', 256481, 10, 'Boeing 757-300', 4010),\n",
       " (567354612, 'Lisa Walker', 256481, 11, 'Boeing 777-300', 6441),\n",
       " (567354612, 'Lisa Walker', 256481, 12, 'Boeing 767-400ER', 6475),\n",
       " (567354612, 'Lisa Walker', 256481, 15, 'Boeing 727', 1504),\n",
       " (552455318, 'Larry West', 101745, 2, 'Boeing 737-800', 3383),\n",
       " (552455318, 'Larry West', 101745, 7, 'Piper Archer III', 520),\n",
       " (552455318, 'Larry West', 101745, 14, 'Airbus A319', 1805),\n",
       " (550156548, 'Karen Scott', 205187, 1, 'Boeing 747-400', 8430),\n",
       " (550156548, 'Karen Scott', 205187, 12, 'Boeing 767-400ER', 6475),\n",
       " (390487451, 'Lawrence Sperry', 212156, 3, 'Airbus A340-300', 7120),\n",
       " (390487451, 'Lawrence Sperry', 212156, 13, 'Airbus A320', 2605),\n",
       " (390487451, 'Lawrence Sperry', 212156, 14, 'Airbus A319', 1805),\n",
       " (274878974, 'Michael Miller', 99890, 10, 'Boeing 757-300', 4010),\n",
       " (274878974, 'Michael Miller', 99890, 12, 'Boeing 767-400ER', 6475),\n",
       " (254099823, 'Patricia Jones', 24450, None, None, None),\n",
       " (356187925, 'Robert Brown', 44740, 6, 'SAAB 340', 2128),\n",
       " (355548984, 'Angela Martinez', 212156, 8, 'Tupolev 154', 4103),\n",
       " (355548984, 'Angela Martinez', 212156, 9, 'Lockheed L1011', 6900),\n",
       " (310454876, 'Joseph Thompson', 212156, 8, 'Tupolev 154', 4103),\n",
       " (310454876, 'Joseph Thompson', 212156, 9, 'Lockheed L1011', 6900),\n",
       " (489456522, 'Linda Davis', 127984, None, None, None),\n",
       " (489221823, 'Richard Jackson', 23980, None, None, None),\n",
       " (548977562, 'William Ward', 84476, 7, 'Piper Archer III', 520),\n",
       " (310454877, 'Chad Stewart', 33546, None, None, None),\n",
       " (142519864, 'Betty Adams', 227489, 1, 'Boeing 747-400', 8430),\n",
       " (142519864, 'Betty Adams', 227489, 2, 'Boeing 737-800', 3383),\n",
       " (142519864, 'Betty Adams', 227489, 3, 'Airbus A340-300', 7120),\n",
       " (142519864, 'Betty Adams', 227489, 7, 'Piper Archer III', 520),\n",
       " (142519864, 'Betty Adams', 227489, 10, 'Boeing 757-300', 4010),\n",
       " (142519864, 'Betty Adams', 227489, 11, 'Boeing 777-300', 6441),\n",
       " (142519864, 'Betty Adams', 227489, 12, 'Boeing 767-400ER', 6475),\n",
       " (142519864, 'Betty Adams', 227489, 13, 'Airbus A320', 2605),\n",
       " (269734834, 'George Wright', 289950, 1, 'Boeing 747-400', 8430),\n",
       " (269734834, 'George Wright', 289950, 2, 'Boeing 737-800', 3383),\n",
       " (269734834, 'George Wright', 289950, 3, 'Airbus A340-300', 7120),\n",
       " (269734834,\n",
       "  'George Wright',\n",
       "  289950,\n",
       "  4,\n",
       "  'British Aerospace Jetstream 41',\n",
       "  1502),\n",
       " (269734834, 'George Wright', 289950, 5, 'Embraer ERJ-145', 1530),\n",
       " (269734834, 'George Wright', 289950, 6, 'SAAB 340', 2128),\n",
       " (269734834, 'George Wright', 289950, 7, 'Piper Archer III', 520),\n",
       " (269734834, 'George Wright', 289950, 8, 'Tupolev 154', 4103),\n",
       " (269734834, 'George Wright', 289950, 9, 'Lockheed L1011', 6900),\n",
       " (269734834, 'George Wright', 289950, 10, 'Boeing 757-300', 4010),\n",
       " (269734834, 'George Wright', 289950, 11, 'Boeing 777-300', 6441),\n",
       " (269734834, 'George Wright', 289950, 12, 'Boeing 767-400ER', 6475),\n",
       " (269734834, 'George Wright', 289950, 13, 'Airbus A320', 2605),\n",
       " (269734834, 'George Wright', 289950, 14, 'Airbus A319', 1805),\n",
       " (269734834, 'George Wright', 289950, 15, 'Boeing 727', 1504),\n",
       " (287321212, 'Michael Miller', 48090, None, None, None),\n",
       " (552455348, 'Dorthy Lewis', 92013, None, None, None),\n",
       " (248965255, 'Barbara Wilson', 43723, None, None, None),\n",
       " (159542516, 'William Moore', 48250, 5, 'Embraer ERJ-145', 1530),\n",
       " (159542516, 'William Moore', 48250, 7, 'Piper Archer III', 520),\n",
       " (348121549, 'Haywood Kelly', 32899, None, None, None),\n",
       " (90873519, 'Elizabeth Taylor', 32021, 6, 'SAAB 340', 2128),\n",
       " (486512566, 'David Anderson', 743001, None, None, None),\n",
       " (619023588, 'Jennifer Thomas', 54921, None, None, None),\n",
       " (15645489, 'Donald King', 18050, None, None, None),\n",
       " (556784565, 'Mark Young', 205187, 2, 'Boeing 737-800', 3383),\n",
       " (556784565, 'Mark Young', 205187, 3, 'Airbus A340-300', 7120),\n",
       " (556784565, 'Mark Young', 205187, 5, 'Embraer ERJ-145', 1530),\n",
       " (573284895, 'Eric Cooper', 114323, 3, 'Airbus A340-300', 7120),\n",
       " (573284895, 'Eric Cooper', 114323, 4, 'British Aerospace Jetstream 41', 1502),\n",
       " (573284895, 'Eric Cooper', 114323, 5, 'Embraer ERJ-145', 1530),\n",
       " (574489456, 'William Jones', 105743, 6, 'SAAB 340', 2128),\n",
       " (574489456, 'William Jones', 105743, 8, 'Tupolev 154', 4103),\n",
       " (574489457, 'Milo Brooks', 20, 7, 'Piper Archer III', 520),\n",
       " (16, 'Schwitzer 2-33', 30, None, None, None)]"
      ]
     },
     "execution_count": 5,
     "metadata": {},
     "output_type": "execute_result"
    }
   ],
   "source": [
    "cursor.fetchall()"
   ]
  },
  {
   "cell_type": "code",
   "execution_count": 6,
   "metadata": {},
   "outputs": [
    {
     "data": {
      "text/plain": [
       "<sqlite3.Cursor at 0x26264b7eea0>"
      ]
     },
     "execution_count": 6,
     "metadata": {},
     "output_type": "execute_result"
    }
   ],
   "source": [
    "cursor.execute(\"SELECT * FROM Certified C WHERE C.eid = 16\")\n",
    "aid, aname, cruisingrange, eid, ename, salary = cursor.fetchone()\n",
    "cursor.execute(\"DELETE FROM Certified WHERE eid = 16\")\n",
    "cursor.execute('INSERT INTO Certified VALUES (?,?,?,?,?,?)', [eid, ename, salary, aid, aname, cruisingrange])"
   ]
  },
  {
   "cell_type": "code",
   "execution_count": 7,
   "metadata": {},
   "outputs": [
    {
     "data": {
      "text/plain": [
       "[(556784565, 'Mark Young', 205187, 2, 'Boeing 737-800', 3383),\n",
       " (556784565, 'Mark Young', 205187, 3, 'Airbus A340-300', 7120),\n",
       " (556784565, 'Mark Young', 205187, 5, 'Embraer ERJ-145', 1530),\n",
       " (573284895, 'Eric Cooper', 114323, 3, 'Airbus A340-300', 7120),\n",
       " (573284895, 'Eric Cooper', 114323, 4, 'British Aerospace Jetstream 41', 1502),\n",
       " (573284895, 'Eric Cooper', 114323, 5, 'Embraer ERJ-145', 1530),\n",
       " (574489456, 'William Jones', 105743, 6, 'SAAB 340', 2128),\n",
       " (574489456, 'William Jones', 105743, 8, 'Tupolev 154', 4103),\n",
       " (574489457, 'Milo Brooks', 20, 7, 'Piper Archer III', 520),\n",
       " (None, None, None, 16, 'Schwitzer 2-33', 30)]"
      ]
     },
     "execution_count": 7,
     "metadata": {},
     "output_type": "execute_result"
    }
   ],
   "source": [
    "cursor.execute(\"SELECT * FROM Certified\")\n",
    "cursor.fetchall()[-10:]"
   ]
  },
  {
   "cell_type": "code",
   "execution_count": 8,
   "metadata": {},
   "outputs": [],
   "source": [
    "connection.close()"
   ]
  },
  {
   "cell_type": "markdown",
   "metadata": {},
   "source": [
    "## Parte II: Creación de tablas y carga de datos"
   ]
  },
  {
   "cell_type": "code",
   "execution_count": 9,
   "metadata": {},
   "outputs": [],
   "source": [
    "connection = sqlite3.connect(BD_name) \n",
    "cursor = connection.cursor()"
   ]
  },
  {
   "cell_type": "markdown",
   "metadata": {},
   "source": [
    "### Empleados"
   ]
  },
  {
   "cell_type": "code",
   "execution_count": 10,
   "metadata": {},
   "outputs": [],
   "source": [
    "cursor.execute(\"CREATE TABLE IF NOT EXISTS Employees(eid INTEGER PRIMARY KEY, ename TEXT, salary INTEGER)\")\n",
    "cursor.execute(\"SELECT DISTINCT C.eid, C.ename, C.salary FROM Certified C\")\n",
    "for line in cursor.fetchall():\n",
    "    cursor.execute('INSERT INTO Employees VALUES (?,?,?)', line)"
   ]
  },
  {
   "cell_type": "code",
   "execution_count": 11,
   "metadata": {},
   "outputs": [
    {
     "data": {
      "text/plain": [
       "[(619023588, 'Jennifer Thomas', 54921),\n",
       " (574489457, 'Milo Brooks', 20),\n",
       " (574489456, 'William Jones', 105743),\n",
       " (573284895, 'Eric Cooper', 114323),\n",
       " (567354612, 'Lisa Walker', 256481),\n",
       " (556784565, 'Mark Young', 205187),\n",
       " (552455348, 'Dorthy Lewis', 92013),\n",
       " (552455318, 'Larry West', 101745),\n",
       " (550156548, 'Karen Scott', 205187),\n",
       " (548977562, 'William Ward', 84476),\n",
       " (489456522, 'Linda Davis', 127984),\n",
       " (489221823, 'Richard Jackson', 23980),\n",
       " (486512566, 'David Anderson', 743001),\n",
       " (390487451, 'Lawrence Sperry', 212156),\n",
       " (356187925, 'Robert Brown', 44740)]"
      ]
     },
     "execution_count": 11,
     "metadata": {},
     "output_type": "execute_result"
    }
   ],
   "source": [
    "cursor.execute(\"SELECT * FROM Employees E ORDER BY E.eid DESC\")\n",
    "cursor.fetchall()[:15]"
   ]
  },
  {
   "cell_type": "code",
   "execution_count": 12,
   "metadata": {},
   "outputs": [
    {
     "name": "stdout",
     "output_type": "stream",
     "text": [
      "Información base de datos: airport.db\n",
      "\n",
      "\n",
      "Información tabla Flights:\n",
      "\tInformación columna 0 - flno: INTEGER, 0, None, 0\n",
      "\tInformación columna 1 - origin: TEXT, 0, None, 0\n",
      "\tInformación columna 2 - destination: TEXT, 0, None, 0\n",
      "\tInformación columna 3 - distance: INTEGER, 0, None, 0\n",
      "\tInformación columna 4 - departs: TIME, 0, None, 0\n",
      "\tInformación columna 5 - arrives: TIME, 0, None, 0\n",
      "\tInformación columna 6 - price: INTEGER, 0, None, 0\n",
      "\n",
      "\n",
      "Información tabla Certified:\n",
      "\tInformación columna 0 - eid: INT, 0, None, 0\n",
      "\tInformación columna 1 - ename: TEXT, 0, None, 0\n",
      "\tInformación columna 2 - salary: INT, 0, None, 0\n",
      "\tInformación columna 3 - aid: INT, 0, None, 0\n",
      "\tInformación columna 4 - aname: TEXT, 0, None, 0\n",
      "\tInformación columna 5 - cruisingrange: INT, 0, None, 0\n",
      "\n",
      "\n",
      "Información tabla Employees:\n",
      "\tInformación columna 0 - eid: INTEGER, 0, None, 1\n",
      "\tInformación columna 1 - ename: TEXT, 0, None, 0\n",
      "\tInformación columna 2 - salary: INTEGER, 0, None, 0\n"
     ]
    }
   ],
   "source": [
    "imprime_datos(BD_name)"
   ]
  },
  {
   "cell_type": "markdown",
   "metadata": {},
   "source": [
    "### Aviones"
   ]
  },
  {
   "cell_type": "code",
   "execution_count": 13,
   "metadata": {},
   "outputs": [],
   "source": [
    "cursor.execute(\"CREATE TABLE IF NOT EXISTS Aircraft(aid INTEGER PRIMARY KEY, aname TEXT, cruisingrange INTEGER)\")\n",
    "cursor.execute(\"SELECT DISTINCT C.aid, C.aname, C.cruisingrange FROM Certified C\")\n",
    "for line in cursor.fetchall():\n",
    "    cursor.execute('INSERT INTO Aircraft VALUES (?,?,?)', line)"
   ]
  },
  {
   "cell_type": "code",
   "execution_count": 14,
   "metadata": {},
   "outputs": [
    {
     "data": {
      "text/plain": [
       "[(1, 'Boeing 747-400', 8430),\n",
       " (2, 'Boeing 737-800', 3383),\n",
       " (3, 'Airbus A340-300', 7120),\n",
       " (4, 'British Aerospace Jetstream 41', 1502),\n",
       " (5, 'Embraer ERJ-145', 1530),\n",
       " (6, 'SAAB 340', 2128),\n",
       " (7, 'Piper Archer III', 520),\n",
       " (8, 'Tupolev 154', 4103),\n",
       " (9, 'Lockheed L1011', 6900),\n",
       " (10, 'Boeing 757-300', 4010),\n",
       " (11, 'Boeing 777-300', 6441),\n",
       " (12, 'Boeing 767-400ER', 6475),\n",
       " (13, 'Airbus A320', 2605),\n",
       " (14, 'Airbus A319', 1805),\n",
       " (15, 'Boeing 727', 1504)]"
      ]
     },
     "execution_count": 14,
     "metadata": {},
     "output_type": "execute_result"
    }
   ],
   "source": [
    "cursor.execute(\"SELECT * FROM Aircraft\")\n",
    "cursor.fetchall()[:15]"
   ]
  },
  {
   "cell_type": "code",
   "execution_count": 15,
   "metadata": {},
   "outputs": [
    {
     "name": "stdout",
     "output_type": "stream",
     "text": [
      "Información base de datos: airport.db\n",
      "\n",
      "\n",
      "Información tabla Flights:\n",
      "\tInformación columna 0 - flno: INTEGER, 0, None, 0\n",
      "\tInformación columna 1 - origin: TEXT, 0, None, 0\n",
      "\tInformación columna 2 - destination: TEXT, 0, None, 0\n",
      "\tInformación columna 3 - distance: INTEGER, 0, None, 0\n",
      "\tInformación columna 4 - departs: TIME, 0, None, 0\n",
      "\tInformación columna 5 - arrives: TIME, 0, None, 0\n",
      "\tInformación columna 6 - price: INTEGER, 0, None, 0\n",
      "\n",
      "\n",
      "Información tabla Certified:\n",
      "\tInformación columna 0 - eid: INT, 0, None, 0\n",
      "\tInformación columna 1 - ename: TEXT, 0, None, 0\n",
      "\tInformación columna 2 - salary: INT, 0, None, 0\n",
      "\tInformación columna 3 - aid: INT, 0, None, 0\n",
      "\tInformación columna 4 - aname: TEXT, 0, None, 0\n",
      "\tInformación columna 5 - cruisingrange: INT, 0, None, 0\n",
      "\n",
      "\n",
      "Información tabla Employees:\n",
      "\tInformación columna 0 - eid: INTEGER, 0, None, 1\n",
      "\tInformación columna 1 - ename: TEXT, 0, None, 0\n",
      "\tInformación columna 2 - salary: INTEGER, 0, None, 0\n",
      "\n",
      "\n",
      "Información tabla Aircraft:\n",
      "\tInformación columna 0 - aid: INTEGER, 0, None, 1\n",
      "\tInformación columna 1 - aname: TEXT, 0, None, 0\n",
      "\tInformación columna 2 - cruisingrange: INTEGER, 0, None, 0\n"
     ]
    }
   ],
   "source": [
    "imprime_datos(BD_name)"
   ]
  },
  {
   "cell_type": "markdown",
   "metadata": {},
   "source": [
    "### Relacion"
   ]
  },
  {
   "cell_type": "code",
   "execution_count": 16,
   "metadata": {},
   "outputs": [],
   "source": [
    "cursor.execute(\"CREATE TABLE IF NOT EXISTS Relacion(eid INTEGER, aid INTEGER, PRIMARY KEY (eid,aid),\\\n",
    "                FOREIGN KEY(eid) REFERENCES Employees, FOREIGN KEY(aid) REFERENCES Aircraft)\")\n",
    "cursor.execute(\"SELECT C.eid, C.aid FROM Certified C\\\n",
    "                WHERE C.eid IS NOT NULL\\\n",
    "                    AND C.aid IS NOT NULL\")\n",
    "for line in cursor.fetchall():\n",
    "    cursor.execute('INSERT INTO Relacion VALUES (?,?)', line)"
   ]
  },
  {
   "cell_type": "code",
   "execution_count": 17,
   "metadata": {},
   "outputs": [
    {
     "data": {
      "text/plain": [
       "[(242518965, 2),\n",
       " (242518965, 10),\n",
       " (141582651, 2),\n",
       " (141582651, 10),\n",
       " (141582651, 12),\n",
       " (11564812, 2),\n",
       " (11564812, 10),\n",
       " (567354612, 1),\n",
       " (567354612, 2),\n",
       " (567354612, 3),\n",
       " (567354612, 4),\n",
       " (567354612, 5),\n",
       " (567354612, 7),\n",
       " (567354612, 9),\n",
       " (567354612, 10)]"
      ]
     },
     "execution_count": 17,
     "metadata": {},
     "output_type": "execute_result"
    }
   ],
   "source": [
    "cursor.execute(\"SELECT * FROM Relacion\")\n",
    "cursor.fetchall()[:15]"
   ]
  },
  {
   "cell_type": "code",
   "execution_count": 18,
   "metadata": {},
   "outputs": [
    {
     "name": "stdout",
     "output_type": "stream",
     "text": [
      "Información base de datos: airport.db\n",
      "\n",
      "\n",
      "Información tabla Flights:\n",
      "\tInformación columna 0 - flno: INTEGER, 0, None, 0\n",
      "\tInformación columna 1 - origin: TEXT, 0, None, 0\n",
      "\tInformación columna 2 - destination: TEXT, 0, None, 0\n",
      "\tInformación columna 3 - distance: INTEGER, 0, None, 0\n",
      "\tInformación columna 4 - departs: TIME, 0, None, 0\n",
      "\tInformación columna 5 - arrives: TIME, 0, None, 0\n",
      "\tInformación columna 6 - price: INTEGER, 0, None, 0\n",
      "\n",
      "\n",
      "Información tabla Certified:\n",
      "\tInformación columna 0 - eid: INT, 0, None, 0\n",
      "\tInformación columna 1 - ename: TEXT, 0, None, 0\n",
      "\tInformación columna 2 - salary: INT, 0, None, 0\n",
      "\tInformación columna 3 - aid: INT, 0, None, 0\n",
      "\tInformación columna 4 - aname: TEXT, 0, None, 0\n",
      "\tInformación columna 5 - cruisingrange: INT, 0, None, 0\n",
      "\n",
      "\n",
      "Información tabla Employees:\n",
      "\tInformación columna 0 - eid: INTEGER, 0, None, 1\n",
      "\tInformación columna 1 - ename: TEXT, 0, None, 0\n",
      "\tInformación columna 2 - salary: INTEGER, 0, None, 0\n",
      "\n",
      "\n",
      "Información tabla Aircraft:\n",
      "\tInformación columna 0 - aid: INTEGER, 0, None, 1\n",
      "\tInformación columna 1 - aname: TEXT, 0, None, 0\n",
      "\tInformación columna 2 - cruisingrange: INTEGER, 0, None, 0\n",
      "\n",
      "\n",
      "Información tabla Relacion:\n",
      "\tInformación columna 0 - eid: INTEGER, 0, None, 1\n",
      "\tInformación columna 1 - aid: INTEGER, 0, None, 2\n"
     ]
    }
   ],
   "source": [
    "imprime_datos(BD_name)"
   ]
  },
  {
   "cell_type": "markdown",
   "metadata": {},
   "source": [
    "Finalmente eliminamos la tabla con información repetida y cerramos la conección"
   ]
  },
  {
   "cell_type": "code",
   "execution_count": 19,
   "metadata": {},
   "outputs": [
    {
     "data": {
      "text/plain": [
       "<sqlite3.Cursor at 0x26264c01f80>"
      ]
     },
     "execution_count": 19,
     "metadata": {},
     "output_type": "execute_result"
    }
   ],
   "source": [
    "cursor.execute(\"DROP TABLE IF EXISTS Certified\")"
   ]
  },
  {
   "cell_type": "code",
   "execution_count": 20,
   "metadata": {},
   "outputs": [],
   "source": [
    "cursor.execute(\"CREATE TABLE IF NOT EXISTS Certified(eid INTEGER, aid INTEGER, PRIMARY KEY (eid,aid),\\\n",
    "                FOREIGN KEY(eid) REFERENCES Employees, FOREIGN KEY(aid) REFERENCES Aircraft)\")\n",
    "cursor.execute(\"SELECT R.eid, R.aid FROM Relacion R\")\n",
    "for line in cursor.fetchall():\n",
    "    cursor.execute('INSERT INTO Certified VALUES (?,?)', line)"
   ]
  },
  {
   "cell_type": "code",
   "execution_count": 21,
   "metadata": {},
   "outputs": [
    {
     "data": {
      "text/plain": [
       "<sqlite3.Cursor at 0x26264c01f80>"
      ]
     },
     "execution_count": 21,
     "metadata": {},
     "output_type": "execute_result"
    }
   ],
   "source": [
    "cursor.execute(\"DROP TABLE IF EXISTS Relacion\")"
   ]
  },
  {
   "cell_type": "code",
   "execution_count": 22,
   "metadata": {},
   "outputs": [
    {
     "name": "stdout",
     "output_type": "stream",
     "text": [
      "Información base de datos: airport.db\n",
      "\n",
      "\n",
      "Información tabla Flights:\n",
      "\tInformación columna 0 - flno: INTEGER, 0, None, 0\n",
      "\tInformación columna 1 - origin: TEXT, 0, None, 0\n",
      "\tInformación columna 2 - destination: TEXT, 0, None, 0\n",
      "\tInformación columna 3 - distance: INTEGER, 0, None, 0\n",
      "\tInformación columna 4 - departs: TIME, 0, None, 0\n",
      "\tInformación columna 5 - arrives: TIME, 0, None, 0\n",
      "\tInformación columna 6 - price: INTEGER, 0, None, 0\n",
      "\n",
      "\n",
      "Información tabla Employees:\n",
      "\tInformación columna 0 - eid: INTEGER, 0, None, 1\n",
      "\tInformación columna 1 - ename: TEXT, 0, None, 0\n",
      "\tInformación columna 2 - salary: INTEGER, 0, None, 0\n",
      "\n",
      "\n",
      "Información tabla Aircraft:\n",
      "\tInformación columna 0 - aid: INTEGER, 0, None, 1\n",
      "\tInformación columna 1 - aname: TEXT, 0, None, 0\n",
      "\tInformación columna 2 - cruisingrange: INTEGER, 0, None, 0\n",
      "\n",
      "\n",
      "Información tabla Certified:\n",
      "\tInformación columna 0 - eid: INTEGER, 0, None, 1\n",
      "\tInformación columna 1 - aid: INTEGER, 0, None, 2\n"
     ]
    }
   ],
   "source": [
    "imprime_datos(BD_name)"
   ]
  },
  {
   "cell_type": "code",
   "execution_count": 23,
   "metadata": {},
   "outputs": [],
   "source": [
    "connection.commit()\n",
    "connection.close()"
   ]
  },
  {
   "cell_type": "markdown",
   "metadata": {},
   "source": [
    "## Parte III: Resolver consultas"
   ]
  },
  {
   "cell_type": "markdown",
   "metadata": {},
   "source": [
    "Considere las siguientes relaciones:\n",
    "- Flights(flno: integer, origin: text, destination: text, distance: integer, departs: time, arrives: time, price: integer)\n",
    "- Aircraft(aid: integer, aname: text, cruisingrange: integer)\n",
    "- Employees(eid: integer, ename: text, salary: integer)\n",
    "- Certified(eid, aid)\n",
    "\n",
    "**Nota**: Considere que la relación _Employees_ describe tanto a pilotos como a otro tipo de trabajador, que cada piloto está certificado para volar al menos un avión y que solo los pilotos están certificados para volar.\n",
    "\n",
    "En base a esto, escriba las consultas SQL para responder a las preguntas que se indican a continuación:\n",
    "1. Encuentre los nombres y salarios de los pilotos certificados para volar algún avión Airbus.\n",
    "1. Encuentre los nombres de los pilotos que están certificados para volar aviones con autonomía de más de 1000 millas.\n",
    "1. Por cada piloto que está certificado para volar más de tres aviones, encuentre el _id_ y la autonomía del avión con máxima autonomía para el que está certificado.\n",
    "1. Encuentre los nombres y salarios de todos los trabajadores que ganan más de \\$50.000 y no son pilotos.\n",
    "1. Encuentre los nombres de los pilotos que están certificados para volar en al menos tres aviones con autonomía de más de 1000 millas.\n",
    "1. Encuentre los _id_ de los aviones que pueden ser usados en rutas de Los Ángeles a Chicago.\n",
    "1. Encuentre los nombres de los pilotos cuyo sueldo es menor que el precio del vuelo más barato de Los Ángeles a Honolulu."
   ]
  },
  {
   "cell_type": "code",
   "execution_count": 24,
   "metadata": {},
   "outputs": [
    {
     "name": "stdout",
     "output_type": "stream",
     "text": [
      "Lisa Walker\n",
      "Larry West\n",
      "Lawrence Sperry\n",
      "Betty Adams\n",
      "George Wright\n",
      "Mark Young\n",
      "Eric Cooper\n"
     ]
    }
   ],
   "source": [
    "# P1. Encuentre los nombres y salarios de los pilotos certificados para volar algún avión Airbus.\n",
    "connection = sqlite3.connect(BD_name) \n",
    "cursor = connection.cursor()\n",
    "\n",
    "cursor.execute(\"SELECT DISTINCT E.ename, E.salary \\\n",
    "                FROM Employees E, Certified C, Aircraft A \\\n",
    "                WHERE E.eid = C.eid AND C.aid = A.aid AND A.aname LIKE '%Airbus%'\")\n",
    "for r in cursor:\n",
    "    print(r[0])\n",
    "connection.close()"
   ]
  },
  {
   "cell_type": "code",
   "execution_count": 25,
   "metadata": {},
   "outputs": [
    {
     "name": "stdout",
     "output_type": "stream",
     "text": [
      "James Smith\n",
      "Mary Johnson\n",
      "John Williams\n",
      "Lisa Walker\n",
      "Larry West\n",
      "Karen Scott\n",
      "Lawrence Sperry\n",
      "Michael Miller\n",
      "Robert Brown\n",
      "Angela Martinez\n",
      "Joseph Thompson\n",
      "Betty Adams\n",
      "George Wright\n",
      "William Moore\n",
      "Elizabeth Taylor\n",
      "Mark Young\n",
      "Eric Cooper\n",
      "William Jones\n"
     ]
    }
   ],
   "source": [
    "# P2. Encuentre los nombres de los pilotos que están certificados para volar aviones con autonomía de más de 1000 millas.\n",
    "\n",
    "connection = sqlite3.connect(BD_name) \n",
    "cursor = connection.cursor()\n",
    "cursor.execute('SELECT DISTINCT E.ename \\\n",
    "                FROM Employees E, Certified C, Aircraft A \\\n",
    "                WHERE C.aid = A.aid AND E.eid = C.eid AND A.cruisingrange > 1000')\n",
    "for r in cursor:\n",
    "    print(r[0])\n",
    "connection.close()"
   ]
  },
  {
   "cell_type": "code",
   "execution_count": 26,
   "metadata": {},
   "outputs": [
    {
     "name": "stdout",
     "output_type": "stream",
     "text": [
      "142519864 8430\n",
      "269734834 8430\n",
      "567354612 8430\n"
     ]
    }
   ],
   "source": [
    "# P3. Por cada piloto que está certificado para volar más de tres aviones, encuentre el id del piloto y la \n",
    "# autonomía del avión con máxima autonomía para el que está certificado.\n",
    "\n",
    "connection = sqlite3.connect(BD_name) \n",
    "cursor = connection.cursor()\n",
    "cursor.execute('SELECT C.eid, MAX (A.cruisingrange) \\\n",
    "                FROM Certified C, Aircraft A \\\n",
    "                WHERE C.aid = A.aid \\\n",
    "                GROUP BY C.eid \\\n",
    "                HAVING COUNT (*) > 3')\n",
    "for r in cursor:\n",
    "    print(r[0], r[1])\n",
    "connection.close()"
   ]
  },
  {
   "cell_type": "markdown",
   "metadata": {},
   "source": [
    "#### Consultas anidadas"
   ]
  },
  {
   "cell_type": "code",
   "execution_count": 27,
   "metadata": {},
   "outputs": [
    {
     "name": "stdout",
     "output_type": "stream",
     "text": [
      "David Anderson 743001\n",
      "Linda Davis 127984\n",
      "Dorthy Lewis 92013\n",
      "Jennifer Thomas 54921\n"
     ]
    }
   ],
   "source": [
    "# P4. Encuentre los nombres y salarios de todos los trabajadores que ganan más de $50.000 y no son pilotos.\n",
    "\n",
    "connection = sqlite3.connect(BD_name) \n",
    "cursor = connection.cursor()\n",
    "cursor.execute(\"SELECT E.ename, E.salary \\\n",
    "                FROM Employees E\\\n",
    "                WHERE E.salary > 50000 AND E.eid NOT IN (SELECT C.eid \\\n",
    "                                                         FROM Certified C)\")\n",
    "for r in cursor:\n",
    "    print(r[0],r[1])\n",
    "connection.close()"
   ]
  },
  {
   "cell_type": "code",
   "execution_count": 28,
   "metadata": {},
   "outputs": [
    {
     "name": "stdout",
     "output_type": "stream",
     "text": [
      "Mary Johnson\n",
      "Betty Adams\n",
      "George Wright\n",
      "Lawrence Sperry\n",
      "Mark Young\n",
      "Lisa Walker\n",
      "Eric Cooper\n"
     ]
    }
   ],
   "source": [
    "# P5. Encuentre los nombres de los pilotos que están certificados para volar en al menos tres aviones\n",
    "# con autonomía de más de 1000 millas.\n",
    "connection = sqlite3.connect(BD_name) \n",
    "cursor = connection.cursor()\n",
    "cursor.execute(\"SELECT E.ename \\\n",
    "                FROM Employees E, Certified C, Aircraft A\\\n",
    "                WHERE E.eid = C.eid AND A.aid = C.aid AND A.cruisingrange > 1000 \\\n",
    "                GROUP BY C.eid \\\n",
    "                HAVING COUNT (*) >= 3\")\n",
    "for r in cursor:\n",
    "    print(r[0])\n",
    "connection.close()"
   ]
  },
  {
   "cell_type": "code",
   "execution_count": 29,
   "metadata": {},
   "outputs": [
    {
     "name": "stdout",
     "output_type": "stream",
     "text": [
      "1 Boeing 747-400\n",
      "2 Boeing 737-800\n",
      "3 Airbus A340-300\n",
      "6 SAAB 340\n",
      "8 Tupolev 154\n",
      "9 Lockheed L1011\n",
      "10 Boeing 757-300\n",
      "11 Boeing 777-300\n",
      "12 Boeing 767-400ER\n",
      "13 Airbus A320\n",
      "14 Airbus A319\n"
     ]
    }
   ],
   "source": [
    "# P6. Encuentre los id y nombres de los aviones que pueden ser usados en rutas de Los Ángeles a Chicago.\n",
    "\n",
    "connection = sqlite3.connect(BD_name) \n",
    "cursor = connection.cursor()\n",
    "cursor.execute(\"SELECT A.aid, A.aname \\\n",
    "                FROM Aircraft A \\\n",
    "                WHERE A.cruisingrange > (SELECT MIN (F.distance) \\\n",
    "                                         FROM Flights F \\\n",
    "                                         WHERE F.origin = 'Los Angeles' AND F.destination = 'Chicago')\")\n",
    "for r in cursor:\n",
    "    print(r[0], r[1])\n",
    "connection.close()"
   ]
  },
  {
   "cell_type": "code",
   "execution_count": 30,
   "metadata": {},
   "outputs": [
    {
     "name": "stdout",
     "output_type": "stream",
     "text": [
      "Schwitzer 2-33\n",
      "Milo Brooks\n"
     ]
    }
   ],
   "source": [
    "# P7. Encuentre los nombres de los pilotos cuyo sueldo es menor que el precio del vuelo más barato de Los Ángeles a Honolulu.\n",
    "\n",
    "connection = sqlite3.connect(BD_name) \n",
    "cursor = connection.cursor()\n",
    "cursor.execute(\"SELECT DISTINCT E.ename \\\n",
    "                FROM Employees E \\\n",
    "                WHERE E.salary < (SELECT MIN (F.price) \\\n",
    "                                  FROM Flights F \\\n",
    "                                  WHERE F.origin = 'Los Angeles' AND F.destination = 'Honolulu')\")\n",
    "for r in cursor:\n",
    "    print(r[0])\n",
    "connection.close()\n"
   ]
  },
  {
   "cell_type": "code",
   "execution_count": null,
   "metadata": {},
   "outputs": [],
   "source": []
  }
 ],
 "metadata": {
  "kernelspec": {
   "display_name": "Python 3",
   "language": "python",
   "name": "python3"
  },
  "language_info": {
   "codemirror_mode": {
    "name": "ipython",
    "version": 3
   },
   "file_extension": ".py",
   "mimetype": "text/x-python",
   "name": "python",
   "nbconvert_exporter": "python",
   "pygments_lexer": "ipython3",
   "version": "3.8.3"
  }
 },
 "nbformat": 4,
 "nbformat_minor": 2
}
