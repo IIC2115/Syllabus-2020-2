{
 "cells": [
  {
   "cell_type": "markdown",
   "metadata": {},
   "source": [
    "# Programación como Herramienta para la Ingeniería 2020-2\n",
    "## Ayudantía 1: Estructuras de datos y algoritmos\n",
    "### Ayudante: Pablo Seisdedos (pcseisdedos@uc.cl)"
   ]
  },
  {
   "cell_type": "markdown",
   "metadata": {},
   "source": [
    "# Problema 1 \n",
    "Dada una lista de $N$ números enteros $x_{k} \\in N$   (tanto positivos, como negativos), encuentre todos los índices $i \\in \\{0,...,|N|-1\\}$ de la lista que realizan una partición de esta en dos grupos de igual suma, es decir, $\\sum_{k=0}^{i-1}x_{k}=\\sum_{k=i+1}^{|N|-1}x_{k}$\n",
    ". Se pide retornar en una lista todos los índices que cumplen la condición. Por ejemplo, si la lista fuese [3,4,2,1], la respuesta debiese ser [1], dado que el el número 4 divide a la lista en [3] y [2,1] que suman lo mismo."
   ]
  },
  {
   "cell_type": "markdown",
   "metadata": {},
   "source": [
    "a) Resuelva el problema utilizando completamente fuerza bruta, es decir, analice todos los casos para entregar su respuesta y no use ninguna lógica que le ahorre tiempo de resolución. ¿De qué orden es la solución construida?"
   ]
  },
  {
   "cell_type": "code",
   "execution_count": 1,
   "metadata": {},
   "outputs": [],
   "source": [
    "# Parte A\n",
    "def division_lista_a(lista):\n",
    "    resultado = []\n",
    "    n = len(lista)\n",
    "    for i in range(n):\n",
    "        if sum(lista[0:i]) == sum(lista[i+1:n]):\n",
    "            resultado.append(i)\n",
    "            \n",
    "    return resultado"
   ]
  },
  {
   "cell_type": "code",
   "execution_count": 2,
   "metadata": {},
   "outputs": [
    {
     "name": "stdout",
     "output_type": "stream",
     "text": [
      "[0, 3, 7]\n"
     ]
    }
   ],
   "source": [
    "lista = [0,-4,6,-4,-3,3,2,0]\n",
    "print(division_lista_a(lista))"
   ]
  },
  {
   "cell_type": "markdown",
   "metadata": {},
   "source": [
    "La solución construida es $O(n^2)$ porque itera una vez sobre cada uno de los n índices y en cada iteración suma todos los elementos de la izquierda y derecha (n-1 elementos). por esto la cantidad de operaciones es $n*(n-1) = n^2 - n$ lo que significa que el algoritmo es $O(n^2)$"
   ]
  },
  {
   "cell_type": "markdown",
   "metadata": {},
   "source": [
    "b) Resuelva el mismo problema pero ahora debe reducir el orden de solución. Es decir, trate de optimizar el tiempo de solución de la parte (a). ¿De qué orden es la solución construida?"
   ]
  },
  {
   "cell_type": "code",
   "execution_count": 3,
   "metadata": {},
   "outputs": [],
   "source": [
    "# Parte B\n",
    "def division_lista_b(lista):\n",
    "    resultado = []\n",
    "    n = len(lista)\n",
    "    \n",
    "    izq = 0\n",
    "    der = sum(lista)\n",
    "    for i in range(n):\n",
    "        der -= lista[i]\n",
    "        if izq == der:\n",
    "            resultado.append(i)\n",
    "        izq += lista[i]   \n",
    "        \n",
    "    return resultado"
   ]
  },
  {
   "cell_type": "code",
   "execution_count": 4,
   "metadata": {},
   "outputs": [
    {
     "name": "stdout",
     "output_type": "stream",
     "text": [
      "[0, 3, 7]\n"
     ]
    }
   ],
   "source": [
    "lista = [0,-4,6,-4,-3,3,2,0]\n",
    "print(division_lista_b(lista))"
   ]
  },
  {
   "cell_type": "markdown",
   "metadata": {},
   "source": [
    "La solución construida es $O(n)$ porque primero suma una vez todos los elementos (n) y luego itera sobre cada uno de los n índices, en cada iteración realiza operaciones de orden 1 (sumar y restar dos números, evaluar si dos números son iguales y agregar un elemento a una lista si lo son. Por esto la cantidad de operaciones es 2*n lo que significa que el algoritmo es $O(n)$"
   ]
  },
  {
   "cell_type": "markdown",
   "metadata": {},
   "source": [
    "c) Construya dos gráficos tamaño de input vs tiempo de ejecución para las soluciones de las parte (a) y (b). ¿Qué observa?"
   ]
  },
  {
   "cell_type": "code",
   "execution_count": 5,
   "metadata": {},
   "outputs": [],
   "source": [
    "import time, random, math\n",
    "import matplotlib.pyplot as plt\n",
    "\n",
    "#Funcion para crear inputs\n",
    "def inputs(size):\n",
    "    L = [int(random.uniform(-min((10000, size))+1, min((10000,size))+1)) for _ in range(size)]\n",
    "    return L\n",
    "\n",
    "def tiempos(sizes):\n",
    "    times_a = []\n",
    "    times_b = []\n",
    "    total_time_a = 0\n",
    "    total_time_b = 0\n",
    "\n",
    "    runs_per_size = 1\n",
    "\n",
    "    for size in sizes:\n",
    "        for _ in range(runs_per_size):\n",
    "\n",
    "            #Creamos un input\n",
    "            lista = inputs(size)\n",
    "\n",
    "            #Ejecutamos el A\n",
    "            start = time.time()\n",
    "            division_lista_a(lista)\n",
    "            end = time.time()\n",
    "            total_time_a += end-start \n",
    "\n",
    "            #Ejecutamos el B\n",
    "            start = time.time()\n",
    "            division_lista_b(lista)\n",
    "            end = time.time()\n",
    "            total_time_b += end-start \n",
    "\n",
    "\n",
    "        times_a.append(total_time_a/runs_per_size)\n",
    "        times_b.append(total_time_b/runs_per_size)\n",
    "        \n",
    "    return times_a, times_b\n",
    "        \n",
    "def graficar(times_a, times_b):\n",
    "    plt.figure(figsize=(10,5))\n",
    "    plt.plot(sizes, times_a, 'r', label = 'Fuerza bruta')  \n",
    "    plt.plot(sizes, times_b, 'b', label = 'Optimizado')\n",
    "    plt.title('Fuerza bruta vs Optimizad0', size = 20)\n",
    "    plt.xlabel('Tamaño del input', size = 15)\n",
    "    plt.ylabel('Tiempo [s]', size = 15)\n",
    "    plt.legend()\n",
    "    plt.show()"
   ]
  },
  {
   "cell_type": "code",
   "execution_count": 6,
   "metadata": {},
   "outputs": [
    {
     "data": {
      "image/png": "[encoded data removed]",
      "text/plain": [
       "<Figure size 720x360 with 1 Axes>"
      ]
     },
     "metadata": {
      "needs_background": "light"
     },
     "output_type": "display_data"
    }
   ],
   "source": [
    "sizes = [10*x for x in range(1,101)]\n",
    "graficar(*tiempos(sizes))"
   ]
  },
  {
   "cell_type": "markdown",
   "metadata": {},
   "source": [
    "Se puede notar la clara tendencia cuadrática del algoritmo ineficiente, mientras que en el caso optimizado se ve una tendendia lineal."
   ]
  },
  {
   "cell_type": "markdown",
   "metadata": {},
   "source": [
    "# Problema 2 \n",
    "Considere un conjunto de 𝐚 alumnos ($a \\in \\mathbb{N}^{+}$) donde cada uno tiene asociado una nota $𝒏$ ($𝑛  \\in \\mathbb{N}^{+}$). \n",
    "\n",
    "Escriba un programa que dado el conjunto de alumnos y sus notas, y un número $𝒌$ ($k \\in \\mathbb{N}^{+}$), retorne $𝒌$ grupos de estudio disjuntos, tales que la suma de las notas parciales de los alumnos en cada grupo sea la misma.\n"
   ]
  },
  {
   "cell_type": "code",
   "execution_count": 7,
   "metadata": {},
   "outputs": [],
   "source": [
    "from time import time"
   ]
  },
  {
   "cell_type": "code",
   "execution_count": 8,
   "metadata": {},
   "outputs": [],
   "source": [
    "def search(groups, notas, target):\n",
    "        for group in groups:\n",
    "            if sum(group) > target:\n",
    "                return False\n",
    "        if not notas: \n",
    "            return True\n",
    "        \n",
    "        v = notas.pop()\n",
    "        for group in groups:\n",
    "            group.append(v)\n",
    "            if search(groups, notas, target): \n",
    "                return True\n",
    "            group.pop()\n",
    "        notas.append(v)\n",
    "        return False"
   ]
  },
  {
   "cell_type": "code",
   "execution_count": 9,
   "metadata": {},
   "outputs": [],
   "source": [
    "def grupos_estudio(notas, k):\n",
    "    copia_notas = [] # una copia de la lista original\n",
    "    pre_groups = []\n",
    "    target, resto = divmod(sum(notas), k)\n",
    "    if resto != 0 or len(notas) < k: \n",
    "        return []\n",
    "    \n",
    "    # Nuevo \n",
    "    for nota in notas:\n",
    "        if nota > target:\n",
    "            return []\n",
    "        elif nota == target:\n",
    "            k-=1\n",
    "            pre_groups.append([target])\n",
    "        else:\n",
    "            copia_notas.append(nota)       \n",
    "        \n",
    "\n",
    "    groups = [[] for i in range(k)]    \n",
    "    search(groups, copia_notas, target) #le paso la copia\n",
    "    return groups + pre_groups"
   ]
  },
  {
   "cell_type": "code",
   "execution_count": 10,
   "metadata": {},
   "outputs": [
    {
     "data": {
      "text/plain": [
       "[[4, 6, 2], [4, 8], [3, 5, 1, 3], [5, 7], [12]]"
      ]
     },
     "execution_count": 10,
     "metadata": {},
     "output_type": "execute_result"
    }
   ],
   "source": [
    "grupos_estudio([7,3,5,12,2,1,5,3,8,4,6,4], 5)"
   ]
  },
  {
   "cell_type": "markdown",
   "metadata": {},
   "source": [
    "# Problema 3\n",
    "Dos strings son anagramas si al reordenar los caracteres de uno, es posible formar el otro. Teniendo esto en consideración, escribe un programa que dados dos strings, responda si estos son o no anagramas. Considere que no hay diferencia entre mayúsculas y minúsculas y que no se diferencian caracteres especiales (ej ó = o)"
   ]
  },
  {
   "cell_type": "code",
   "execution_count": 11,
   "metadata": {},
   "outputs": [],
   "source": [
    "def normalizer(char):\n",
    "    char = char.lower() # para no diferenciar mayúsculas de minúsculas\n",
    "    eq = {'á':'a', 'é':'e', 'í':'i', 'ó':'o', 'ú':'u', 'ü':'u'} # para no diferenciar caracteres especiales\n",
    "    if char in 'áéíóúü':\n",
    "        char = eq[char]\n",
    "    return char\n",
    "\n",
    "def count_char(string):\n",
    "    freqS = {}\n",
    "    for l in string:\n",
    "        l = normalizer(l)\n",
    "        if not l in freqS:\n",
    "            freqS[l] = 1\n",
    "        else:\n",
    "            freqS[l] += 1\n",
    "    return freqS\n",
    "    \n",
    "def son_anagramas(string1, string2):\n",
    "    if len(string1) != len(string2):\n",
    "        return False\n",
    "    f1 = count_char(string1)\n",
    "    f2 = count_char(string2)\n",
    "    return f1 == f2"
   ]
  },
  {
   "cell_type": "code",
   "execution_count": 12,
   "metadata": {},
   "outputs": [
    {
     "data": {
      "text/plain": [
       "True"
      ]
     },
     "execution_count": 12,
     "metadata": {},
     "output_type": "execute_result"
    }
   ],
   "source": [
    "son_anagramas(\"Irónicamente\", \"Renacimiento\")"
   ]
  }
 ],
 "metadata": {
  "kernelspec": {
   "display_name": "Python 3",
   "language": "python",
   "name": "python3"
  },
  "language_info": {
   "codemirror_mode": {
    "name": "ipython",
    "version": 3
   },
   "file_extension": ".py",
   "mimetype": "text/x-python",
   "name": "python",
   "nbconvert_exporter": "python",
   "pygments_lexer": "ipython3",
   "version": "3.8.3"
  }
 },
 "nbformat": 4,
 "nbformat_minor": 4
}
